{
 "cells": [
  {
   "cell_type": "code",
   "execution_count": 1,
   "metadata": {
    "collapsed": true
   },
   "outputs": [],
   "source": [
    "import numpy as np\n",
    "import pickle\n",
    "import gzip\n",
    "\n",
    "import os.path"
   ]
  },
  {
   "cell_type": "code",
   "execution_count": 2,
   "metadata": {
    "collapsed": true
   },
   "outputs": [],
   "source": [
    "phog_cases = ('2_bins360_levels0_angle360.arff', '3_bins300_levels0_angle360.arff', '4_bins200_levels0_angle360.arff',\n",
    "            '5_bins100_levels0_angle360.arff', '6_bins50_levels0_angle360.arff', '7_bins20_levels0_angle360.arff',\n",
    "            '8_bins100_levels1_angle360.arff', '9_bins50_levels1_angle360.arff', '10_bins20_levels1_angle360.arff',\n",
    "            '11_bins50_levels2_angle360.arff', '12_bins20_levels2_angle360.arff')\n",
    "descriptors = ('PHOG/','CHIST.arff', 'GHIST.arff', 'GIST_ori8_block4.arff', 'Centrist.arff')"
   ]
  },
  {
   "cell_type": "markdown",
   "metadata": {},
   "source": [
    "## All the images\n",
    "\n",
    "### Gaussian Naive Bayes"
   ]
  },
  {
   "cell_type": "code",
   "execution_count": 3,
   "metadata": {
    "collapsed": false,
    "scrolled": true
   },
   "outputs": [
    {
     "name": "stdout",
     "output_type": "stream",
     "text": [
      "\n",
      "Case: 2_bins360_levels0_angle360.arff\n",
      "\tFold: 0\n",
      "\tResult: 0.660145\n",
      "\tFold: 1\n",
      "\tResult: 0.640599\n",
      "\tFold: 2\n",
      "\tResult: 0.648316\n",
      "\tFold: 3\n",
      "\tResult: 0.640345\n",
      "\n",
      "Case: 3_bins300_levels0_angle360.arff\n",
      "\tFold: 0\n",
      "\tResult: 0.657834\n",
      "\tFold: 1\n",
      "\tResult: 0.638465\n",
      "\tFold: 2\n",
      "\tResult: 0.645985\n",
      "\tFold: 3\n",
      "\tResult: 0.637192\n",
      "\tFold: 4\n",
      "\tResult: 0.642068\n",
      "\n",
      "Case: 4_bins200_levels0_angle360.arff\n",
      "\tFold: 0\n",
      "\tResult: 0.649667\n",
      "\tFold: 1\n",
      "\tResult: 0.632805\n",
      "\tFold: 2\n",
      "\tResult: 0.638700\n",
      "\tFold: 3\n",
      "\tResult: 0.631277\n",
      "\tFold: 4\n",
      "\tResult: 0.634548\n",
      "\n",
      "Case: 5_bins100_levels0_angle360.arff\n",
      "\tFold: 0\n",
      "\tResult: 0.624755\n",
      "\tFold: 1\n",
      "\tResult: 0.617665\n",
      "\tFold: 2\n",
      "\tResult: 0.618429\n",
      "\tFold: 3\n",
      "\tResult: 0.612691\n",
      "\tFold: 4\n",
      "\tResult: 0.612417\n",
      "\n",
      "Case: 6_bins50_levels0_angle360.arff\n",
      "\tFold: 0\n",
      "\tResult: 0.611790\n",
      "\tFold: 1\n",
      "\tResult: 0.609127\n",
      "\tFold: 2\n",
      "\tResult: 0.608970\n",
      "\tFold: 3\n",
      "\tResult: 0.607168\n",
      "\tFold: 4\n",
      "\tResult: 0.603349\n",
      "\n",
      "Case: 7_bins20_levels0_angle360.arff\n",
      "\tFold: 0\n",
      "\tResult: 0.707814\n",
      "\tFold: 1\n",
      "\tResult: 0.685409\n",
      "\tFold: 2\n",
      "\tResult: 0.689600\n",
      "\tFold: 3\n",
      "\tResult: 0.686389\n",
      "\tFold: 4\n",
      "\tResult: 0.697650\n",
      "\n",
      "Case: 8_bins100_levels1_angle360.arff\n",
      "\tFold: 0\n",
      "\tResult: 0.600901\n",
      "\tFold: 1\n",
      "\tResult: 0.590541\n",
      "\n",
      "Case: 9_bins50_levels1_angle360.arff\n",
      "\tFold: 0\n",
      "\tResult: 0.574912\n",
      "\tFold: 1\n",
      "\tResult: 0.572777\n",
      "\tFold: 2\n",
      "\tResult: 0.571798\n",
      "\tFold: 3\n",
      "\tResult: 0.574031\n",
      "\tFold: 4\n",
      "\tResult: 0.566667\n",
      "\n",
      "Case: 10_bins20_levels1_angle360.arff\n",
      "\tFold: 0\n",
      "\tResult: 0.558382\n",
      "\tFold: 1\n",
      "\tResult: 0.557932\n",
      "\tFold: 2\n",
      "\tResult: 0.558402\n",
      "\tFold: 3\n",
      "\tResult: 0.557364\n",
      "\tFold: 4\n",
      "\tResult: 0.555151\n",
      "\n",
      "Case: 11_bins50_levels2_angle360.arff\n",
      "\tFold: 0\n",
      "\tResult: 0.610027\n",
      "\n",
      "Case: 12_bins20_levels2_angle360.arff\n",
      "\tFold: 0\n",
      "\tResult: 0.562260\n",
      "\tFold: 1\n",
      "\tResult: 0.559557\n",
      "\tFold: 2\n",
      "\tResult: 0.561751\n"
     ]
    }
   ],
   "source": [
    "for i in range(0,11):\n",
    "    print (\"\\nCase: {}\".format(phog_cases[i]))\n",
    "    for j in range(0,5):\n",
    "        if os.path.isfile('results/GNB_Descriptor0_Case%d_fold%d.pklz' % (i,j)):\n",
    "            data = pickle.load(gzip.open('results/GNB_Descriptor0_Case%d_fold%d.pklz' % (i,j),'rb',2))\n",
    "            print (\"\\tFold: %d\" % j)\n",
    "            print (\"\\tResult: %f\" % data)\n",
    "    "
   ]
  },
  {
   "cell_type": "code",
   "execution_count": 4,
   "metadata": {
    "collapsed": false,
    "scrolled": true
   },
   "outputs": [
    {
     "name": "stdout",
     "output_type": "stream",
     "text": [
      "\n",
      "Case: CHIST.arff\n",
      "\tFold: 0\n",
      "\tResult: 0.641676\n",
      "\tFold: 1\n",
      "\tResult: 0.634978\n",
      "\tFold: 2\n",
      "\tResult: 0.631923\n",
      "\n",
      "Case: GHIST.arff\n",
      "\tFold: 0\n",
      "\tResult: 0.650999\n",
      "\tFold: 1\n",
      "\tResult: 0.641324\n",
      "\tFold: 2\n",
      "\tResult: 0.639483\n",
      "\tFold: 3\n",
      "\tResult: 0.638425\n",
      "\tFold: 4\n",
      "\tResult: 0.650803\n",
      "\n",
      "Case: GIST_ori8_block4.arff\n",
      "\tFold: 0\n",
      "\tResult: 0.611007\n",
      "\tFold: 1\n",
      "\tResult: 0.597513\n",
      "\tFold: 2\n",
      "\tResult: 0.597474\n",
      "\tFold: 3\n",
      "\tResult: 0.593498\n"
     ]
    }
   ],
   "source": [
    "for i in range(1,4):\n",
    "    print (\"\\nCase: {}\".format(descriptors[i]))\n",
    "    for j in range(0,5):\n",
    "        if os.path.isfile('results/GNB_Descriptor{:d}_fold{:d}.pklz'.format(i,j)):\n",
    "            data = pickle.load(gzip.open('results/GNB_Descriptor{:d}_fold{:d}.pklz'.format(i,j),'rb',2))\n",
    "            print (\"\\tFold: %d\" % j)\n",
    "            print (\"\\tResult: %f\" % data)\n"
   ]
  },
  {
   "cell_type": "markdown",
   "metadata": {},
   "source": [
    "### SVM lineal"
   ]
  },
  {
   "cell_type": "code",
   "execution_count": 5,
   "metadata": {
    "collapsed": false,
    "scrolled": true
   },
   "outputs": [
    {
     "name": "stdout",
     "output_type": "stream",
     "text": [
      "\n",
      "Case: 2_bins360_levels0_angle360.arff\n",
      "\tFold: 0\n",
      "\tResult: 0.727007\n",
      "\tFold: 1\n",
      "\tResult: 0.699412\n",
      "\tFold: 2\n",
      "\tResult: 0.702938\n",
      "\tFold: 3\n",
      "\tResult: 0.702566\n",
      "\n",
      "Case: 3_bins300_levels0_angle360.arff\n",
      "\tFold: 0\n",
      "\tResult: 0.727007\n",
      "\tFold: 1\n",
      "\tResult: 0.699412\n",
      "\tFold: 2\n",
      "\tResult: 0.702938\n",
      "\tFold: 3\n",
      "\tResult: 0.702566\n",
      "\tFold: 4\n",
      "\tResult: 0.718684\n",
      "\n",
      "Case: 4_bins200_levels0_angle360.arff\n",
      "\tFold: 0\n",
      "\tResult: 0.727007\n",
      "\tFold: 1\n",
      "\tResult: 0.699412\n",
      "\tFold: 2\n",
      "\tResult: 0.702938\n",
      "\tFold: 3\n",
      "\tResult: 0.702566\n",
      "\tFold: 4\n",
      "\tResult: 0.718684\n",
      "\n",
      "Case: 5_bins100_levels0_angle360.arff\n",
      "\tFold: 0\n",
      "\tResult: 0.727007\n",
      "\tFold: 1\n",
      "\tResult: 0.699412\n",
      "\tFold: 2\n",
      "\tResult: 0.702938\n",
      "\tFold: 3\n",
      "\tResult: 0.702566\n",
      "\tFold: 4\n",
      "\tResult: 0.718684\n",
      "\n",
      "Case: 6_bins50_levels0_angle360.arff\n",
      "\tFold: 0\n",
      "\tResult: 0.727007\n",
      "\tFold: 1\n",
      "\tResult: 0.699412\n",
      "\tFold: 2\n",
      "\tResult: 0.702938\n",
      "\tFold: 3\n",
      "\tResult: 0.702566\n",
      "\tFold: 4\n",
      "\tResult: 0.718684\n",
      "\n",
      "Case: 7_bins20_levels0_angle360.arff\n",
      "\tFold: 0\n",
      "\tResult: 0.727007\n",
      "\tFold: 1\n",
      "\tResult: 0.699412\n",
      "\tFold: 2\n",
      "\tResult: 0.702938\n",
      "\tFold: 3\n",
      "\tResult: 0.702566\n",
      "\tFold: 4\n",
      "\tResult: 0.718684\n",
      "\n",
      "Case: 8_bins100_levels1_angle360.arff\n",
      "\tFold: 0\n",
      "\tResult: 0.727007\n",
      "\n",
      "Case: 9_bins50_levels1_angle360.arff\n",
      "\tFold: 0\n",
      "\tResult: 0.727007\n",
      "\tFold: 1\n",
      "\tResult: 0.699412\n",
      "\tFold: 2\n",
      "\tResult: 0.702938\n",
      "\n",
      "Case: 10_bins20_levels1_angle360.arff\n",
      "\tFold: 0\n",
      "\tResult: 0.727007\n",
      "\tFold: 1\n",
      "\tResult: 0.699412\n",
      "\tFold: 2\n",
      "\tResult: 0.702938\n",
      "\tFold: 3\n",
      "\tResult: 0.702566\n",
      "\tFold: 4\n",
      "\tResult: 0.718684\n",
      "\n",
      "Case: 11_bins50_levels2_angle360.arff\n",
      "\tFold: 0\n",
      "\tResult: 0.727007\n",
      "\n",
      "Case: 12_bins20_levels2_angle360.arff\n",
      "\tFold: 0\n",
      "\tResult: 0.727007\n",
      "\tFold: 1\n",
      "\tResult: 0.699412\n"
     ]
    }
   ],
   "source": [
    "for i in range(0,11):\n",
    "    print (\"\\nCase: {}\".format(phog_cases[i]))\n",
    "    for j in range(0,5):\n",
    "        if os.path.isfile('results/SVM_Descriptor0_Case%d_fold%d.pklz' % (i,j)):\n",
    "            data = pickle.load(gzip.open('results/SVM_Descriptor0_Case%d_fold%d.pklz' % (i,j),'rb',2))\n",
    "            print (\"\\tFold: %d\" % j)\n",
    "            print (\"\\tResult: %f\" % data)"
   ]
  },
  {
   "cell_type": "code",
   "execution_count": 6,
   "metadata": {
    "collapsed": false,
    "scrolled": false
   },
   "outputs": [
    {
     "name": "stdout",
     "output_type": "stream",
     "text": [
      "\n",
      "Case: CHIST.arff\n",
      "\tFold: 0\n",
      "\tResult: 0.727007\n",
      "\tFold: 1\n",
      "\tResult: 0.699412\n",
      "\tFold: 2\n",
      "\tResult: 0.702938\n",
      "\n",
      "Case: GHIST.arff\n",
      "\tFold: 0\n",
      "\tResult: 0.727007\n",
      "\tFold: 1\n",
      "\tResult: 0.699412\n",
      "\tFold: 2\n",
      "\tResult: 0.702938\n",
      "\tFold: 3\n",
      "\tResult: 0.702566\n",
      "\tFold: 4\n",
      "\tResult: 0.718684\n",
      "\n",
      "Case: GIST_ori8_block4.arff\n",
      "\tFold: 0\n",
      "\tResult: 0.727007\n",
      "\tFold: 1\n",
      "\tResult: 0.699412\n",
      "\tFold: 2\n",
      "\tResult: 0.702938\n",
      "\tFold: 3\n",
      "\tResult: 0.702566\n"
     ]
    }
   ],
   "source": [
    "for i in range(1,4):\n",
    "    print (\"\\nCase: {}\".format(descriptors[i]))\n",
    "    for j in range(0,5):\n",
    "        if os.path.isfile('results/SVM_Descriptor{:d}_fold{:d}.pklz'.format(i,j)):\n",
    "            data = pickle.load(gzip.open('results/SVM_Descriptor{:d}_fold{:d}.pklz'.format(i,j),'rb',2))\n",
    "            print (\"\\tFold: %d\" % j)\n",
    "            print (\"\\tResult: %f\" % data)"
   ]
  },
  {
   "cell_type": "markdown",
   "metadata": {},
   "source": [
    "## Balanced cases\n",
    "\n",
    "### Gaussian Naive Bayes"
   ]
  },
  {
   "cell_type": "code",
   "execution_count": 3,
   "metadata": {
    "collapsed": false,
    "scrolled": true
   },
   "outputs": [
    {
     "name": "stdout",
     "output_type": "stream",
     "text": [
      "\n",
      "Case: 2_bins360_levels0_angle360.arff\n",
      "\tResult: 0.642271\n",
      "\n",
      "Case: 3_bins300_levels0_angle360.arff\n",
      "\tResult: 0.638238\n",
      "\n",
      "Case: 4_bins200_levels0_angle360.arff\n",
      "\tResult: 0.624813\n",
      "\n",
      "Case: 5_bins100_levels0_angle360.arff\n",
      "\tResult: 0.564014\n",
      "\n",
      "Case: 6_bins50_levels0_angle360.arff\n",
      "\tResult: 0.515481\n",
      "\n",
      "Case: 7_bins20_levels0_angle360.arff\n",
      "\tResult: 0.472031\n",
      "\n",
      "Case: 8_bins100_levels1_angle360.arff\n",
      "\tResult: 0.581657\n",
      "\n",
      "Case: 9_bins50_levels1_angle360.arff\n",
      "\tResult: 0.548110\n",
      "\n",
      "Case: 10_bins20_levels1_angle360.arff\n",
      "\tResult: 0.503619\n",
      "\n",
      "Case: 11_bins50_levels2_angle360.arff\n",
      "\tResult: 0.477666\n",
      "\n",
      "Case: 12_bins20_levels2_angle360.arff\n",
      "\tResult: 0.544096\n"
     ]
    }
   ],
   "source": [
    "for i in range(0,11):\n",
    "    print (\"\\nCase: {}\".format(phog_cases[i]))\n",
    "    aux_sum = 0\n",
    "    for j in range(0,5):\n",
    "        if os.path.isfile('results/GNB_balanced_Descriptor0_Case%d_fold%d.pklz' % (i,j)):\n",
    "            data = pickle.load(gzip.open('results/GNB_balanced_Descriptor0_Case%d_fold%d.pklz' % (i,j),'rb',2))\n",
    "            aux_sum += data\n",
    "            \n",
    "    print (\"\\tResult: %f\" % (aux_sum/5))"
   ]
  },
  {
   "cell_type": "code",
   "execution_count": 4,
   "metadata": {
    "collapsed": false
   },
   "outputs": [
    {
     "name": "stdout",
     "output_type": "stream",
     "text": [
      "\n",
      "Case: CHIST.arff\n",
      "\tResult: 0.631310\n",
      "\n",
      "Case: GHIST.arff\n",
      "\tResult: 0.637415\n",
      "\n",
      "Case: GIST_ori8_block4.arff\n",
      "\tResult: 0.592634\n"
     ]
    }
   ],
   "source": [
    "for i in range(1,4):\n",
    "    print (\"\\nCase: {}\".format(descriptors[i]))\n",
    "    aux_sum = 0\n",
    "    for j in range(0,5):\n",
    "        if os.path.isfile('results/GNB_balanced_Descriptor{:d}_fold{:d}.pklz'.format(i,j)):\n",
    "            data = pickle.load(gzip.open('results/GNB_balanced_Descriptor{:d}_fold{:d}.pklz'.format(i,j),'rb',2))\n",
    "            aux_sum += data\n",
    "            \n",
    "    print (\"\\tResult: %f\" % (aux_sum/5))"
   ]
  },
  {
   "cell_type": "markdown",
   "metadata": {},
   "source": [
    "### SVM lineal"
   ]
  },
  {
   "cell_type": "code",
   "execution_count": 5,
   "metadata": {
    "collapsed": false,
    "scrolled": true
   },
   "outputs": [
    {
     "name": "stdout",
     "output_type": "stream",
     "text": [
      "\n",
      "Case: 2_bins360_levels0_angle360.arff\n",
      "\tResult: 0.442690\n",
      "\n",
      "Case: 3_bins300_levels0_angle360.arff\n",
      "\tResult: 0.443258\n",
      "\n",
      "Case: 4_bins200_levels0_angle360.arff\n",
      "\tResult: 0.449908\n",
      "\n",
      "Case: 5_bins100_levels0_angle360.arff\n",
      "\tResult: 0.453628\n",
      "\n",
      "Case: 6_bins50_levels0_angle360.arff\n",
      "\tResult: 0.457169\n",
      "\n",
      "Case: 7_bins20_levels0_angle360.arff\n",
      "\tResult: 0.465855\n",
      "\n",
      "Case: 8_bins100_levels1_angle360.arff\n",
      "\tResult: 0.443317\n",
      "\n",
      "Case: 9_bins50_levels1_angle360.arff\n",
      "\tResult: 0.466849\n",
      "\n",
      "Case: 10_bins20_levels1_angle360.arff\n",
      "\tResult: 0.499902\n",
      "\n",
      "Case: 11_bins50_levels2_angle360.arff\n",
      "\tResult: 0.350033\n",
      "\n",
      "Case: 12_bins20_levels2_angle360.arff\n",
      "\tResult: 0.493370\n"
     ]
    }
   ],
   "source": [
    "for i in range(0,11):\n",
    "    print (\"\\nCase: {}\".format(phog_cases[i]))\n",
    "    aux_sum = 0\n",
    "    for j in range(0,5):\n",
    "        if os.path.isfile('results/SVM_balanced_Descriptor0_Case%d_fold%d.pklz' % (i,j)):\n",
    "            data = pickle.load(gzip.open('results/SVM_balanced_Descriptor0_Case%d_fold%d.pklz' % (i,j),'rb',2))\n",
    "            aux_sum += data\n",
    "            \n",
    "    print (\"\\tResult: %f\" % (aux_sum/5))"
   ]
  },
  {
   "cell_type": "code",
   "execution_count": 6,
   "metadata": {
    "collapsed": false
   },
   "outputs": [
    {
     "name": "stdout",
     "output_type": "stream",
     "text": [
      "\n",
      "Case: CHIST.arff\n",
      "\tResult: 0.440192\n",
      "\n",
      "Case: GHIST.arff\n",
      "\tResult: 0.371592\n",
      "\n",
      "Case: GIST_ori8_block4.arff\n",
      "\tResult: 0.558332\n"
     ]
    }
   ],
   "source": [
    "for i in range(1,4):\n",
    "    print (\"\\nCase: {}\".format(descriptors[i]))\n",
    "    aux_sum = 0\n",
    "    for j in range(0,5):\n",
    "        if os.path.isfile('results/SVM_balanced_Descriptor{:d}_fold{:d}.pklz'.format(i,j)):\n",
    "            data = pickle.load(gzip.open('results/SVM_balanced_Descriptor{:d}_fold{:d}.pklz'.format(i,j),'rb',2))\n",
    "            aux_sum += data\n",
    "            \n",
    "    print (\"\\tResult: %f\" % (aux_sum/5))"
   ]
  },
  {
   "cell_type": "code",
   "execution_count": null,
   "metadata": {
    "collapsed": true
   },
   "outputs": [],
   "source": []
  }
 ],
 "metadata": {
  "kernelspec": {
   "display_name": "Python 2",
   "language": "python",
   "name": "python2"
  },
  "language_info": {
   "codemirror_mode": {
    "name": "ipython",
    "version": 2
   },
   "file_extension": ".py",
   "mimetype": "text/x-python",
   "name": "python",
   "nbconvert_exporter": "python",
   "pygments_lexer": "ipython2",
   "version": "2.7.12"
  }
 },
 "nbformat": 4,
 "nbformat_minor": 0
}
