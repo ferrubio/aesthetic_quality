{
 "cells": [
  {
   "cell_type": "code",
   "execution_count": 1,
   "metadata": {
    "collapsed": false,
    "deletable": true,
    "editable": true
   },
   "outputs": [],
   "source": [
    "# set up Python environment: numpy for numerical routines, and matplotlib for plotting\n",
    "import numpy as np\n",
    "import matplotlib.pyplot as plt\n",
    "import pandas as pd\n",
    "\n",
    "# display plots in this notebook\n",
    "%matplotlib inline\n",
    "\n",
    "# for store the results\n",
    "import pickle\n",
    "import gzip\n",
    "\n",
    "# for include pycode\n",
    "import sys\n",
    "import os\n",
    "sys.path.insert(0,'../pycode')\n",
    "\n",
    "# for auto-reloading external modules\n",
    "# see http://stackoverflow.com/questions/1907993/autoreload-of-modules-in-ipython\n",
    "%load_ext autoreload\n",
    "%autoreload 2"
   ]
  },
  {
   "cell_type": "code",
   "execution_count": 2,
   "metadata": {
    "collapsed": false,
    "deletable": true,
    "editable": true
   },
   "outputs": [],
   "source": [
    "# The caffe module needs to be on the Python path;\n",
    "#  we'll add it here explicitly.\n",
    "caffe_root = '/opt/caffe/'  # this file should be run from {caffe_root}/examples (otherwise change this line)\n",
    "sys.path.insert(0, caffe_root + 'python')\n",
    "\n",
    "import caffe\n",
    "from caffe import layers as L\n",
    "# If you get \"No module named _caffe\", either you have not built pycaffe or you have the wrong path.\n",
    "\n",
    "\n",
    "import aestheticNet\n",
    "from preprocess import utilities "
   ]
  },
  {
   "cell_type": "markdown",
   "metadata": {
    "deletable": true,
    "editable": true
   },
   "source": [
    "# Generacion de train y test\n",
    "Primero creamos dos txt con la informacion del fichero y de su clase"
   ]
  },
  {
   "cell_type": "code",
   "execution_count": 3,
   "metadata": {
    "collapsed": false,
    "deletable": true,
    "editable": true
   },
   "outputs": [],
   "source": [
    "data = pickle.load(gzip.open('../packages/AVA_info.pklz','rb',2))"
   ]
  },
  {
   "cell_type": "code",
   "execution_count": 4,
   "metadata": {
    "collapsed": false,
    "deletable": true,
    "editable": true
   },
   "outputs": [],
   "source": [
    "data.loc[:,'id'] = data['id'].apply(str)\n",
    "classes = np.array(data.sort_values(['id']).loc[:,'Class'])\n",
    "ids = np.array(data.sort_values(['id']).loc[:,'id'])\n",
    "aux_list =  np.array(['/home/frubio/AVA/AVADataset/{:}.jpg'.format(i) for i in ids])"
   ]
  },
  {
   "cell_type": "code",
   "execution_count": 5,
   "metadata": {
    "collapsed": false,
    "deletable": true,
    "editable": true
   },
   "outputs": [],
   "source": [
    "np.random.seed(1000)\n",
    "random_idx = np.random.randint(3, size=len(ids))"
   ]
  },
  {
   "cell_type": "code",
   "execution_count": 6,
   "metadata": {
    "collapsed": false,
    "deletable": true,
    "editable": true
   },
   "outputs": [],
   "source": [
    "train_files = aux_list[random_idx <= 1]\n",
    "train_classes = classes[random_idx <= 1]\n",
    "# Class balanced\n",
    "new_indexes = utilities.balance_class(train_classes)\n",
    "train_classes = train_classes[new_indexes]\n",
    "train_files = train_files[new_indexes]\n",
    "\n",
    "test_files = aux_list[random_idx == 2]\n",
    "test_classes = classes[random_idx == 2]"
   ]
  },
  {
   "cell_type": "code",
   "execution_count": 7,
   "metadata": {
    "collapsed": false,
    "deletable": true,
    "editable": true
   },
   "outputs": [],
   "source": [
    "df_train = pd.DataFrame(list(zip(train_files,train_classes)))\n",
    "df_train.columns = ['image_filename', 'label']\n",
    "df_train.to_csv('../../AVA/train_partition_finetuning.txt', sep=' ', header=None, index=None)\n",
    "\n",
    "df_test = pd.DataFrame(list(zip(test_files,test_classes)))\n",
    "df_test.columns = ['image_filename', 'label']\n",
    "df_test.to_csv('../../AVA/test_partition_finetuning.txt', sep=' ', header=None, index=None)"
   ]
  },
  {
   "cell_type": "markdown",
   "metadata": {
    "deletable": true,
    "editable": true
   },
   "source": [
    "# Aqui comienza la chicha"
   ]
  },
  {
   "cell_type": "code",
   "execution_count": 8,
   "metadata": {
    "collapsed": true,
    "deletable": true,
    "editable": true
   },
   "outputs": [],
   "source": [
    "caffe.set_device(0)  # if we have multiple GPUs, pick the first one\n",
    "#caffe.set_mode_cpu()"
   ]
  },
  {
   "cell_type": "code",
   "execution_count": 9,
   "metadata": {
    "collapsed": true,
    "deletable": true,
    "editable": true
   },
   "outputs": [],
   "source": [
    "weights = caffe_root + 'models/bvlc_reference_caffenet/bvlc_reference_caffenet.caffemodel'"
   ]
  },
  {
   "cell_type": "code",
   "execution_count": 10,
   "metadata": {
    "collapsed": false,
    "deletable": true,
    "editable": true
   },
   "outputs": [],
   "source": [
    "niter = 100000  # number of iterations to train\n",
    "\n",
    "# Reset style_solver as before.\n",
    "style_solver_filename = aestheticNet.solver(aestheticNet.aest_net(train=True,caffe_aes=True))\n",
    "style_solver = caffe.get_solver(style_solver_filename)\n",
    "style_solver.net.copy_from(weights)"
   ]
  },
  {
   "cell_type": "code",
   "execution_count": null,
   "metadata": {
    "collapsed": false,
    "deletable": true,
    "editable": true
   },
   "outputs": [
    {
     "name": "stdout",
     "output_type": "stream",
     "text": [
      "Running solvers for 200 iterations...\n",
      "  0) pretrained: loss=0.693, acc=32%\n",
      " 10) pretrained: loss=0.684, acc=60%\n",
      " 20) pretrained: loss=0.651, acc=60%\n",
      " 30) pretrained: loss=0.697, acc=54%\n",
      " 40) pretrained: loss=0.655, acc=62%\n",
      " 50) pretrained: loss=0.704, acc=46%\n",
      " 60) pretrained: loss=0.560, acc=76%\n",
      " 70) pretrained: loss=0.675, acc=60%\n",
      " 80) pretrained: loss=0.757, acc=50%\n",
      " 90) pretrained: loss=0.779, acc=44%\n",
      "100) pretrained: loss=0.728, acc=42%\n",
      "110) pretrained: loss=0.667, acc=60%\n",
      "120) pretrained: loss=0.648, acc=62%\n",
      "130) pretrained: loss=0.657, acc=66%\n",
      "140) pretrained: loss=0.646, acc=62%\n",
      "150) pretrained: loss=0.778, acc=48%\n",
      "160) pretrained: loss=0.644, acc=64%\n",
      "170) pretrained: loss=0.687, acc=70%\n",
      "180) pretrained: loss=0.714, acc=54%\n"
     ]
    }
   ],
   "source": [
    "print ('Running solvers for %d iterations...' % niter)\n",
    "solvers = [('pretrained', style_solver)]\n",
    "loss, acc, weights = aestheticNet.run_solvers(niter, solvers)\n",
    "print ('Done.')\n",
    "\n",
    "train_loss = loss['pretrained']\n",
    "train_acc = acc['pretrained']\n",
    "style_weights = weights['pretrained']\n",
    "\n",
    "# Delete solvers to save memory.\n",
    "del style_solver, solvers"
   ]
  },
  {
   "cell_type": "code",
   "execution_count": null,
   "metadata": {
    "collapsed": true,
    "deletable": true,
    "editable": true
   },
   "outputs": [],
   "source": [
    "os.rename(weights['pretrained'], \"/home/frubio/AVA/aesthetic_finetuning.caffemodel\")"
   ]
  }
 ],
 "metadata": {
  "kernelspec": {
   "display_name": "Python 3",
   "language": "python",
   "name": "python3"
  },
  "language_info": {
   "codemirror_mode": {
    "name": "ipython",
    "version": 3
   },
   "file_extension": ".py",
   "mimetype": "text/x-python",
   "name": "python",
   "nbconvert_exporter": "python",
   "pygments_lexer": "ipython3",
   "version": "3.4.2"
  }
 },
 "nbformat": 4,
 "nbformat_minor": 2
}
