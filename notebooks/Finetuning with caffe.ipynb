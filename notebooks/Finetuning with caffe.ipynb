{
 "cells": [
  {
   "cell_type": "code",
   "execution_count": 2,
   "metadata": {
    "collapsed": false,
    "deletable": true,
    "editable": true
   },
   "outputs": [],
   "source": [
    "# set up Python environment: numpy for numerical routines, and matplotlib for plotting\n",
    "import numpy as np\n",
    "import matplotlib.pyplot as plt\n",
    "import pandas as pd\n",
    "\n",
    "# display plots in this notebook\n",
    "%matplotlib inline\n",
    "\n",
    "# for store the results\n",
    "import pickle\n",
    "import gzip\n",
    "\n",
    "# for include pycode\n",
    "import sys\n",
    "import os\n",
    "sys.path.insert(0,'../pycode')\n",
    "\n",
    "# for auto-reloading external modules\n",
    "# see http://stackoverflow.com/questions/1907993/autoreload-of-modules-in-ipython\n",
    "%load_ext autoreload\n",
    "%autoreload 2"
   ]
  },
  {
   "cell_type": "code",
   "execution_count": 3,
   "metadata": {
    "collapsed": false,
    "deletable": true,
    "editable": true
   },
   "outputs": [],
   "source": [
    "# The caffe module needs to be on the Python path;\n",
    "#  we'll add it here explicitly.\n",
    "caffe_root = '/opt/caffe/'  # this file should be run from {caffe_root}/examples (otherwise change this line)\n",
    "sys.path.insert(0, caffe_root + 'python')\n",
    "\n",
    "import caffe\n",
    "from caffe import layers as L\n",
    "# If you get \"No module named _caffe\", either you have not built pycaffe or you have the wrong path.\n",
    "\n",
    "from PIL import ImageFile\n",
    "ImageFile.LOAD_TRUNCATED_IMAGES = True\n",
    "\n",
    "import aestheticNet\n",
    "from preprocess import utilities "
   ]
  },
  {
   "cell_type": "code",
   "execution_count": 4,
   "metadata": {
    "collapsed": true,
    "deletable": true,
    "editable": true
   },
   "outputs": [],
   "source": [
    "import utilsData\n",
    "from sklearn.metrics import roc_auc_score, accuracy_score"
   ]
  },
  {
   "cell_type": "markdown",
   "metadata": {
    "deletable": true,
    "editable": true
   },
   "source": [
    "# Generacion de train y test\n",
    "Primero creamos dos txt con la informacion del fichero y de su clase"
   ]
  },
  {
   "cell_type": "code",
   "execution_count": 5,
   "metadata": {
    "collapsed": false,
    "deletable": true,
    "editable": true
   },
   "outputs": [],
   "source": [
    "data = pickle.load(gzip.open('../packages/AVA_info.pklz','rb',2))"
   ]
  },
  {
   "cell_type": "code",
   "execution_count": 6,
   "metadata": {
    "collapsed": false,
    "deletable": true,
    "editable": true
   },
   "outputs": [],
   "source": [
    "data.loc[:,'id'] = data['id'].apply(str)\n",
    "classes = np.array(data.sort_values(['id']).loc[:,'Class'])\n",
    "ids = np.array(data.sort_values(['id']).loc[:,'id'])\n",
    "aux_list =  np.array(['/home/frubio/AVA/AVADataset/{:}.jpg'.format(i) for i in ids])"
   ]
  },
  {
   "cell_type": "code",
   "execution_count": null,
   "metadata": {
    "collapsed": true,
    "deletable": true,
    "editable": true
   },
   "outputs": [],
   "source": [
    "# Esto es para docker\n",
    "data.loc[:,'id'] = data['id'].apply(str)\n",
    "classes = np.array(data.sort_values(['id']).loc[:,'Class'])\n",
    "ids = np.array(data.sort_values(['id']).loc[:,'id'])\n",
    "aux_list =  np.array(['/mnt/AVA/{:}.jpg'.format(i) for i in ids])"
   ]
  },
  {
   "cell_type": "code",
   "execution_count": 7,
   "metadata": {
    "collapsed": false,
    "deletable": true,
    "editable": true
   },
   "outputs": [],
   "source": [
    "np.random.seed(1000)\n",
    "random_idx = np.random.randint(3, size=len(ids))"
   ]
  },
  {
   "cell_type": "code",
   "execution_count": 8,
   "metadata": {
    "collapsed": false,
    "deletable": true,
    "editable": true
   },
   "outputs": [],
   "source": [
    "train_files = aux_list[random_idx <= 1]\n",
    "train_classes = classes[random_idx <= 1]\n",
    "# Class balanced\n",
    "new_indexes = utilities.balance_class(train_classes)\n",
    "train_classes = train_classes[new_indexes]\n",
    "train_files = train_files[new_indexes]\n",
    "\n",
    "test_files = aux_list[random_idx == 2]\n",
    "test_classes = classes[random_idx == 2]"
   ]
  },
  {
   "cell_type": "code",
   "execution_count": null,
   "metadata": {
    "collapsed": false,
    "deletable": true,
    "editable": true
   },
   "outputs": [],
   "source": [
    "df_train = pd.DataFrame(list(zip(train_files,train_classes)))\n",
    "df_train.columns = ['image_filename', 'label']\n",
    "df_train.to_csv('../../AVA/train_partition_finetuning.txt', sep=' ', header=None, index=None)\n",
    "\n",
    "df_test = pd.DataFrame(list(zip(test_files,test_classes)))\n",
    "df_test.columns = ['image_filename', 'label']\n",
    "df_test.to_csv('../../AVA/test_partition_finetuning.txt', sep=' ', header=None, index=None)"
   ]
  },
  {
   "cell_type": "code",
   "execution_count": null,
   "metadata": {
    "collapsed": true,
    "deletable": true,
    "editable": true
   },
   "outputs": [],
   "source": [
    "# Esto es para docker\n",
    "df_train = pd.DataFrame(list(zip(train_files,train_classes)))\n",
    "df_train.columns = ['image_filename', 'label']\n",
    "df_train.to_csv('../../AVA/train_partition_finetuning_docker.txt', sep=' ', header=None, index=None)\n",
    "\n",
    "df_test = pd.DataFrame(list(zip(test_files,test_classes)))\n",
    "df_test.columns = ['image_filename', 'label']\n",
    "df_test.to_csv('../../AVA/test_partition_finetuning_docker.txt', sep=' ', header=None, index=None)"
   ]
  },
  {
   "cell_type": "markdown",
   "metadata": {
    "deletable": true,
    "editable": true
   },
   "source": [
    "# Aqui comienza la chicha"
   ]
  },
  {
   "cell_type": "code",
   "execution_count": 8,
   "metadata": {
    "collapsed": true,
    "deletable": true,
    "editable": true
   },
   "outputs": [],
   "source": [
    "caffe.set_device(0)  # if we have multiple GPUs, pick the first one\n",
    "#caffe.set_mode_cpu()"
   ]
  },
  {
   "cell_type": "code",
   "execution_count": null,
   "metadata": {
    "collapsed": true,
    "deletable": true,
    "editable": true
   },
   "outputs": [],
   "source": [
    "weights = caffe_root + 'models/VGG-16/VGG_ILSVRC_16_layers.caffemodel'"
   ]
  },
  {
   "cell_type": "code",
   "execution_count": null,
   "metadata": {
    "collapsed": false,
    "deletable": true,
    "editable": true
   },
   "outputs": [],
   "source": [
    "niter = 10  # number of iterations to train\n",
    "\n",
    "# Reset style_solver as before.\n",
    "style_solver_filename = aestheticNet.solver(aestheticNet.VGG16_aes_net(train=True,\n",
    "                                                                       source_path='../models/%s_partition_finetuning.txt'),\n",
    "                                            snapshot_pref = '../models/VGG16_AesNet')\n",
    "style_solver = caffe.get_solver(style_solver_filename)\n",
    "style_solver.net.copy_from(weights)"
   ]
  },
  {
   "cell_type": "code",
   "execution_count": null,
   "metadata": {
    "collapsed": false,
    "deletable": true,
    "editable": true
   },
   "outputs": [],
   "source": [
    "print ('Running solvers for %d iterations...' % niter)\n",
    "solvers = [('pretrained', style_solver)]\n",
    "loss, acc, weights = aestheticNet.run_solvers(niter, solvers)\n",
    "print ('Done.')\n",
    "\n",
    "train_loss = loss['pretrained']\n",
    "train_acc = acc['pretrained']\n",
    "style_weights = weights['pretrained']\n",
    "\n",
    "# Delete solvers to save memory.\n",
    "del style_solver, solvers"
   ]
  },
  {
   "cell_type": "code",
   "execution_count": null,
   "metadata": {
    "collapsed": true,
    "deletable": true,
    "editable": true
   },
   "outputs": [],
   "source": [
    "os.rename(weights['pretrained'], \"/home/frubio/AVA/aesthetic_finetuning.caffemodel\")"
   ]
  },
  {
   "cell_type": "markdown",
   "metadata": {
    "deletable": true,
    "editable": true
   },
   "source": [
    "# Testing"
   ]
  },
  {
   "cell_type": "code",
   "execution_count": 9,
   "metadata": {
    "collapsed": false,
    "deletable": true,
    "editable": true
   },
   "outputs": [],
   "source": [
    "model_def = aestheticNet.VGG16_aes_test()\n",
    "model_weights = \"../models/AesNet_VGG16.caffemodel\"\n",
    "\n",
    "net = caffe.Net(model_def,      # defines the structure of the model\n",
    "                model_weights,  # contains the trained weights\n",
    "                caffe.TEST)     # use test mode (e.g., don't perform dropout)"
   ]
  },
  {
   "cell_type": "code",
   "execution_count": 10,
   "metadata": {
    "collapsed": false,
    "deletable": true,
    "editable": true
   },
   "outputs": [],
   "source": [
    "# load the mean ImageNet image (as distributed with Caffe) for subtraction\n",
    "mu = np.load(caffe_root + 'python/caffe/imagenet/ilsvrc_2012_mean.npy')\n",
    "mu = mu.mean(1).mean(1)  # average over pixels to obtain the mean (BGR) pixel values"
   ]
  },
  {
   "cell_type": "code",
   "execution_count": 11,
   "metadata": {
    "collapsed": false,
    "deletable": true,
    "editable": true
   },
   "outputs": [],
   "source": [
    "# create transformer for the input called 'data'\n",
    "transformer = caffe.io.Transformer({'data': net.blobs['data'].data.shape})\n",
    "transformer.set_transpose('data', (2,0,1))  # move image channels to outermost dimension\n",
    "transformer.set_mean('data', mu)            # subtract the dataset-mean value in each channel\n",
    "transformer.set_raw_scale('data', 255)      # rescale from [0, 1] to [0, 255]\n",
    "transformer.set_channel_swap('data', (2,1,0))  # swap channels from RGB to BGR"
   ]
  },
  {
   "cell_type": "code",
   "execution_count": 12,
   "metadata": {
    "collapsed": false,
    "deletable": true,
    "editable": true
   },
   "outputs": [],
   "source": [
    "num_images = test_files.shape[0]\n",
    "output_prob = np.zeros(num_images)\n",
    "batch_size = net.blobs['data'].data.shape[0]\n",
    "\n",
    "num_forwards = np.ceil(num_images/batch_size).astype(int)"
   ]
  },
  {
   "cell_type": "code",
   "execution_count": null,
   "metadata": {
    "collapsed": false,
    "deletable": true,
    "editable": true
   },
   "outputs": [],
   "source": [
    "for i in range(0,num_forwards):\n",
    "    images_step = i*batch_size\n",
    "    \n",
    "    if (i == num_forwards - 1):\n",
    "        images_to_process = num_images - images_step\n",
    "    else:\n",
    "        images_to_process = batch_size\n",
    "            \n",
    "    for j in range(0,images_to_process):\n",
    "        # these lines is for those images that have four dimensions\n",
    "        checked_image = caffe.io.load_image(test_files[j+images_step])\n",
    "        if (len(checked_image.shape)==4):\n",
    "            checked_image = checked_image[0]\n",
    "                \n",
    "        net.blobs['data'].data[j] = transformer.preprocess('data',checked_image)\n",
    "        \n",
    "    net.forward()\n",
    "    output_prob[images_step:images_step+images_to_process] = net.blobs['probs'].data[0:images_to_process,1]"
   ]
  },
  {
   "cell_type": "code",
   "execution_count": null,
   "metadata": {
    "collapsed": false,
    "deletable": true,
    "editable": true
   },
   "outputs": [],
   "source": [
    "results = {}\n",
    "results['balanced'] = utilsData.balanced_accuracy(test_classes, output_prob)\n",
    "results['AUC'] = roc_auc_score(test_classes, output_prob)\n",
    "results['accuracy'] = accuracy_score(test_classes, (output_prob >= 0.5).astype(int))"
   ]
  },
  {
   "cell_type": "code",
   "execution_count": null,
   "metadata": {
    "collapsed": false,
    "deletable": true,
    "editable": true
   },
   "outputs": [],
   "source": [
    "results"
   ]
  },
  {
   "cell_type": "code",
   "execution_count": null,
   "metadata": {
    "collapsed": true,
    "deletable": true,
    "editable": true
   },
   "outputs": [],
   "source": [
    "pickle.dump(results, gzip.open( \"../results/AesNet_VGG16.pklz\", \"wb\" ), 2)"
   ]
  },
  {
   "cell_type": "code",
   "execution_count": null,
   "metadata": {
    "collapsed": true,
    "deletable": true,
    "editable": true
   },
   "outputs": [],
   "source": []
  }
 ],
 "metadata": {
  "kernelspec": {
   "display_name": "Python 3",
   "language": "python",
   "name": "python3"
  }
 },
 "nbformat": 4,
 "nbformat_minor": 2
}
