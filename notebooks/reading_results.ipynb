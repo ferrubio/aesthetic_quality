{
 "cells": [
  {
   "cell_type": "code",
   "execution_count": 1,
   "metadata": {
    "collapsed": true
   },
   "outputs": [],
   "source": [
    "import numpy as np\n",
    "import pickle\n",
    "import gzip\n",
    "\n",
    "import os.path"
   ]
  },
  {
   "cell_type": "code",
   "execution_count": 2,
   "metadata": {
    "collapsed": true
   },
   "outputs": [],
   "source": [
    "decaff_cases = ('pool5','fc6','fc7','pool5_ResNet-152')"
   ]
  },
  {
   "cell_type": "markdown",
   "metadata": {},
   "source": [
    "## All the images\n",
    "\n",
    "### Gaussian Naive Bayes"
   ]
  },
  {
   "cell_type": "code",
   "execution_count": 10,
   "metadata": {
    "collapsed": false,
    "scrolled": true
   },
   "outputs": [
    {
     "name": "stdout",
     "output_type": "stream",
     "text": [
      "\n",
      "Case: pool5\n",
      "\tFold: 0\n",
      "\tResult: 0.610243\n",
      "\tFold: 1\n",
      "\tResult: 0.607188\n",
      "\tFold: 2\n",
      "\tResult: 0.619428\n",
      "\tFold: 3\n",
      "\tResult: 0.610713\n",
      "\n",
      "Case: fc6\n",
      "\tFold: 0\n",
      "\tResult: 0.631727\n",
      "\tFold: 1\n",
      "\tResult: 0.625754\n",
      "\tFold: 2\n",
      "\tResult: 0.637642\n",
      "\tFold: 3\n",
      "\tResult: 0.628496\n",
      "\tFold: 4\n",
      "\tResult: 0.634920\n",
      "\n",
      "Case: fc7\n",
      "\tFold: 0\n",
      "\tResult: 0.622542\n",
      "\tFold: 1\n",
      "\tResult: 0.614199\n",
      "\tFold: 2\n",
      "\tResult: 0.630885\n",
      "\tFold: 3\n",
      "\tResult: 0.618723\n",
      "\tFold: 4\n",
      "\tResult: 0.622307\n",
      "\n",
      "Case: pool5_ResNet-152\n",
      "\tFold: 0\n",
      "\tResult: 0.655229\n",
      "\tFold: 1\n",
      "\tResult: 0.645966\n",
      "\tFold: 2\n",
      "\tResult: 0.652918\n",
      "\tFold: 3\n",
      "\tResult: 0.652938\n",
      "\tFold: 4\n",
      "\tResult: 0.649334\n"
     ]
    }
   ],
   "source": [
    "for i in range(0,4):\n",
    "    print (\"\\nCase: {}\".format(decaff_cases[i]))\n",
    "    for j in range(0,5):\n",
    "        if os.path.isfile('results/only_GNB_%s_fold%d.pklz' % (decaff_cases[i],j)):\n",
    "            data = pickle.load(gzip.open('results/only_GNB_%s_fold%d.pklz' % (decaff_cases[i],j),'rb',2))\n",
    "            print (\"\\tFold: %d\" % j)\n",
    "            print (\"\\tResult: %f\" % data)\n",
    "    "
   ]
  },
  {
   "cell_type": "markdown",
   "metadata": {},
   "source": [
    "## Balanced cases\n",
    "\n",
    "### Gaussian Naive Bayes"
   ]
  },
  {
   "cell_type": "code",
   "execution_count": 9,
   "metadata": {
    "collapsed": false,
    "scrolled": true
   },
   "outputs": [
    {
     "name": "stdout",
     "output_type": "stream",
     "text": [
      "\n",
      "Case: pool5\n",
      "\n",
      "Case: fc6\n",
      "\tFold: 0\n",
      "\tResult: 0.628085\n",
      "\tFold: 1\n",
      "\tResult: 0.625362\n",
      "\tFold: 2\n",
      "\tResult: 0.633549\n",
      "\tFold: 3\n",
      "\tResult: 0.626107\n",
      "\tFold: 4\n",
      "\tResult: 0.630983\n",
      "\n",
      "Case: fc7\n",
      "\tFold: 0\n",
      "\tResult: 0.621073\n",
      "\tFold: 1\n",
      "\tResult: 0.614336\n",
      "\tFold: 2\n",
      "\tResult: 0.630200\n",
      "\tFold: 3\n",
      "\tResult: 0.616980\n",
      "\tFold: 4\n",
      "\tResult: 0.620309\n",
      "\n",
      "Case: pool5_ResNet-152\n",
      "\tFold: 0\n",
      "\tResult: 0.653506\n",
      "\tFold: 1\n",
      "\tResult: 0.643478\n",
      "\tFold: 2\n",
      "\tResult: 0.650627\n",
      "\tFold: 3\n",
      "\tResult: 0.649569\n",
      "\tFold: 4\n",
      "\tResult: 0.647611\n"
     ]
    }
   ],
   "source": [
    "for i in range(0,4):\n",
    "    print (\"\\nCase: {}\".format(decaff_cases[i]))\n",
    "    for j in range(0,5):\n",
    "        if os.path.isfile('results/only_GNB_balanced_%s_fold%d.pklz' % (decaff_cases[i],j)):\n",
    "            data = pickle.load(gzip.open('results/only_GNB_balanced_%s_fold%d.pklz' % (decaff_cases[i],j),'rb',2))\n",
    "            print (\"\\tFold: %d\" % j)\n",
    "            print (\"\\tResult: %f\" % data)"
   ]
  },
  {
   "cell_type": "code",
   "execution_count": null,
   "metadata": {
    "collapsed": true
   },
   "outputs": [],
   "source": []
  }
 ],
 "metadata": {
  "kernelspec": {
   "display_name": "Python 2",
   "language": "python",
   "name": "python2"
  },
  "language_info": {
   "codemirror_mode": {
    "name": "ipython",
    "version": 2
   },
   "file_extension": ".py",
   "mimetype": "text/x-python",
   "name": "python",
   "nbconvert_exporter": "python",
   "pygments_lexer": "ipython2",
   "version": "2.7.12"
  }
 },
 "nbformat": 4,
 "nbformat_minor": 0
}
