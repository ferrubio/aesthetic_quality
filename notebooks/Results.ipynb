{
 "cells": [
  {
   "cell_type": "code",
   "execution_count": 2,
   "metadata": {
    "collapsed": true
   },
   "outputs": [],
   "source": [
    "import numpy as np\n",
    "import pickle\n",
    "import gzip\n",
    "\n",
    "import os.path"
   ]
  },
  {
   "cell_type": "code",
   "execution_count": 3,
   "metadata": {
    "collapsed": true
   },
   "outputs": [],
   "source": [
    "phog_cases = ('2_bins360_levels0_angle360.arff', '3_bins300_levels0_angle360.arff', '4_bins200_levels0_angle360.arff',\n",
    "            '5_bins100_levels0_angle360.arff', '6_bins50_levels0_angle360.arff', '7_bins20_levels0_angle360.arff',\n",
    "            '8_bins100_levels1_angle360.arff', '9_bins50_levels1_angle360.arff', '10_bins20_levels1_angle360.arff',\n",
    "            '11_bins50_levels2_angle360.arff', '12_bins20_levels2_angle360.arff')\n",
    "\n",
    "descriptors = ('PHOG/','CHIST.arff', 'GHIST.arff', 'GIST_ori8_block4.arff', 'Centrist.arff')\n",
    "\n",
    "decaf = (\"fc6_caffenet\",\"fc7_caffenet\",\"pool5_caffenet\",\"pool5_ResNet-152\")"
   ]
  },
  {
   "cell_type": "markdown",
   "metadata": {},
   "source": [
    "## Balanced\n",
    "\n",
    "### Gaussian Naive Bayes"
   ]
  },
  {
   "cell_type": "code",
   "execution_count": 4,
   "metadata": {
    "collapsed": false,
    "scrolled": true
   },
   "outputs": [
    {
     "name": "stdout",
     "output_type": "stream",
     "text": [
      "\n",
      "Case: 2_bins360_levels0_angle360.arff\n",
      "\tResult: 0.642891\n",
      "\n",
      "Case: 3_bins300_levels0_angle360.arff\n",
      "\tResult: 0.638923\n",
      "\n",
      "Case: 4_bins200_levels0_angle360.arff\n",
      "\tResult: 0.625221\n",
      "\n",
      "Case: 5_bins100_levels0_angle360.arff\n",
      "\tResult: 0.562158\n",
      "\n",
      "Case: 6_bins50_levels0_angle360.arff\n",
      "\tResult: 0.513858\n",
      "\n",
      "Case: 7_bins20_levels0_angle360.arff\n",
      "\tResult: 0.470490\n",
      "\n",
      "Case: 8_bins100_levels1_angle360.arff\n",
      "\tResult: 0.581872\n",
      "\n",
      "Case: 9_bins50_levels1_angle360.arff\n",
      "\tResult: 0.546373\n",
      "\n",
      "Case: 10_bins20_levels1_angle360.arff\n",
      "\tResult: 0.563333\n",
      "\n",
      "Case: 11_bins50_levels2_angle360.arff\n",
      "\tResult: 0.598664\n",
      "\n",
      "Case: 12_bins20_levels2_angle360.arff\n",
      "\tResult: 0.543467\n"
     ]
    }
   ],
   "source": [
    "for i in range(0,11):\n",
    "    print (\"\\nCase: {}\".format(phog_cases[i]))\n",
    "    if os.path.isfile('../results/GNB_balanced_Descriptor0_Case%d.pklz' % i):\n",
    "        data = pickle.load(gzip.open('../results/GNB_balanced_Descriptor0_Case%d.pklz' % i,'rb',2))\n",
    "        print (\"\\tResult: %f\" % data['accuracy'])\n",
    "    "
   ]
  },
  {
   "cell_type": "code",
   "execution_count": 5,
   "metadata": {
    "collapsed": false,
    "scrolled": true
   },
   "outputs": [
    {
     "name": "stdout",
     "output_type": "stream",
     "text": [
      "\n",
      "Case: CHIST.arff\n",
      "\tResult: 0.633134\n",
      "\n",
      "Case: GHIST.arff\n",
      "\tResult: 0.639612\n",
      "\n",
      "Case: GIST_ori8_block4.arff\n",
      "\tResult: 0.592154\n",
      "\n",
      "Case: Centrist.arff\n",
      "\tResult: 0.551837\n"
     ]
    }
   ],
   "source": [
    "for i in range(1,5):\n",
    "    print (\"\\nCase: {}\".format(descriptors[i]))\n",
    "    if os.path.isfile('../results/GNB_balanced_Descriptor{:d}.pklz'.format(i)):\n",
    "        data = pickle.load(gzip.open('../results/GNB_balanced_Descriptor{:d}.pklz'.format(i),'rb',2))\n",
    "        print (\"\\tResult: %f\" % data['accuracy'])"
   ]
  },
  {
   "cell_type": "code",
   "execution_count": 11,
   "metadata": {
    "collapsed": false
   },
   "outputs": [
    {
     "name": "stdout",
     "output_type": "stream",
     "text": [
      "\n",
      "Case: fc6_caffenet\n",
      "\tResult: 0.628817\n",
      "\n",
      "Case: fc7_caffenet\n",
      "\tResult: 0.620580\n",
      "\n",
      "Case: pool5_caffenet\n",
      "\tResult: 0.611163\n",
      "\n",
      "Case: pool5_ResNet-152\n",
      "\tResult: 0.648958\n"
     ]
    }
   ],
   "source": [
    "for i in range(0,4):\n",
    "    print (\"\\nCase: {}\".format(decaf[i]))\n",
    "    if os.path.isfile('../results/GNB_balanced_{}.pklz'.format(decaf[i])):\n",
    "        data = pickle.load(gzip.open('../results/GNB_balanced_{}.pklz'.format(decaf[i]),'rb',2))\n",
    "        print (\"\\tResult: %f\" % data['accuracy'])"
   ]
  },
  {
   "cell_type": "code",
   "execution_count": 12,
   "metadata": {
    "collapsed": false
   },
   "outputs": [
    {
     "name": "stdout",
     "output_type": "stream",
     "text": [
      "\n",
      "Case: fc6_caffenet\n",
      "\tResult: 0.478194\n",
      "\n",
      "Case: fc7_caffenet\n",
      "\tResult: 0.498844\n",
      "\n",
      "Case: pool5_caffenet\n",
      "\tResult: 0.527877\n",
      "\n",
      "Case: pool5_ResNet-152\n",
      "\tResult: 0.606114\n"
     ]
    }
   ],
   "source": [
    "for i in range(0,4):\n",
    "    print (\"\\nCase: {}\".format(decaf[i]))\n",
    "    if os.path.isfile('../results/GNB_balanced_PCA_{}.pklz'.format(decaf[i])):\n",
    "        data = pickle.load(gzip.open('../results/GNB_balanced_PCA_{}.pklz'.format(decaf[i]),'rb',2))\n",
    "        print (\"\\tResult: %f\" % data['accuracy'])"
   ]
  },
  {
   "cell_type": "markdown",
   "metadata": {},
   "source": [
    "### SVM lineal"
   ]
  },
  {
   "cell_type": "code",
   "execution_count": 8,
   "metadata": {
    "collapsed": false,
    "scrolled": true
   },
   "outputs": [
    {
     "name": "stdout",
     "output_type": "stream",
     "text": [
      "\n",
      "Case: 2_bins360_levels0_angle360.arff\n",
      "\tResult: 0.574716\n",
      "\n",
      "Case: 3_bins300_levels0_angle360.arff\n",
      "\tResult: 0.570537\n",
      "\n",
      "Case: 4_bins200_levels0_angle360.arff\n",
      "\tResult: 0.565194\n",
      "\n",
      "Case: 5_bins100_levels0_angle360.arff\n",
      "\tResult: 0.547556\n",
      "\n",
      "Case: 6_bins50_levels0_angle360.arff\n",
      "\tResult: 0.538484\n",
      "\n",
      "Case: 7_bins20_levels0_angle360.arff\n",
      "\tResult: 0.533149\n",
      "\n",
      "Case: 8_bins100_levels1_angle360.arff\n",
      "\tResult: 0.564873\n",
      "\n",
      "Case: 9_bins50_levels1_angle360.arff\n",
      "\tResult: 0.560732\n",
      "\n",
      "Case: 10_bins20_levels1_angle360.arff\n",
      "\tResult: 0.560000\n",
      "\n",
      "Case: 11_bins50_levels2_angle360.arff\n",
      "\tResult: 0.567336\n",
      "\n",
      "Case: 12_bins20_levels2_angle360.arff\n",
      "\tResult: 0.568108\n"
     ]
    }
   ],
   "source": [
    "for i in range(0,11):\n",
    "    print (\"\\nCase: {}\".format(phog_cases[i]))\n",
    "    if os.path.isfile('../results/SVM_balanced_Descriptor0_Case%d.pklz' % i):\n",
    "        data = pickle.load(gzip.open('../results/SVM_balanced_Descriptor0_Case%d.pklz' % i,'rb',2))\n",
    "        print (\"\\tResult: %f\" % data['accuracy'])\n",
    "    "
   ]
  },
  {
   "cell_type": "code",
   "execution_count": 9,
   "metadata": {
    "collapsed": false,
    "scrolled": false
   },
   "outputs": [
    {
     "name": "stdout",
     "output_type": "stream",
     "text": [
      "\n",
      "Case: CHIST.arff\n",
      "\tResult: 0.517148\n",
      "\n",
      "Case: GHIST.arff\n",
      "\tResult: 0.484493\n",
      "\n",
      "Case: GIST_ori8_block4.arff\n",
      "\tResult: 0.590372\n",
      "\n",
      "Case: Centrist.arff\n",
      "\tResult: 0.605633\n"
     ]
    }
   ],
   "source": [
    "for i in range(1,5):\n",
    "    print (\"\\nCase: {}\".format(descriptors[i]))\n",
    "    if os.path.isfile('../results/SVM_balanced_Descriptor{:d}.pklz'.format(i)):\n",
    "        data = pickle.load(gzip.open('../results/SVM_balanced_Descriptor{:d}.pklz'.format(i),'rb',2))\n",
    "        print (\"\\tResult: %f\" % data['accuracy'])"
   ]
  },
  {
   "cell_type": "code",
   "execution_count": 10,
   "metadata": {
    "collapsed": false
   },
   "outputs": [
    {
     "name": "stdout",
     "output_type": "stream",
     "text": [
      "\n",
      "Case: fc6_caffenet\n",
      "\tResult: 0.550388\n",
      "\n",
      "Case: fc7_caffenet\n",
      "\tResult: 0.571645\n",
      "\n",
      "Case: pool5_caffenet\n",
      "\tResult: 0.559021\n",
      "\n",
      "Case: pool5_ResNet-152\n",
      "\tResult: 0.616216\n"
     ]
    }
   ],
   "source": [
    "for i in range(0,4):\n",
    "    print (\"\\nCase: {}\".format(decaf[i]))\n",
    "    if os.path.isfile('../results/SVM_balanced_PCA_{}.pklz'.format(decaf[i])):\n",
    "        data = pickle.load(gzip.open('../results/SVM_balanced_PCA_{}.pklz'.format(decaf[i]),'rb',2))\n",
    "        print (\"\\tResult: %f\" % data['accuracy'])"
   ]
  },
  {
   "cell_type": "code",
   "execution_count": null,
   "metadata": {
    "collapsed": true
   },
   "outputs": [],
   "source": []
  }
 ],
 "metadata": {
  "kernelspec": {
   "display_name": "Python 2",
   "language": "python",
   "name": "python2"
  },
  "language_info": {
   "codemirror_mode": {
    "name": "ipython",
    "version": 2
   },
   "file_extension": ".py",
   "mimetype": "text/x-python",
   "name": "python",
   "nbconvert_exporter": "python",
   "pygments_lexer": "ipython2",
   "version": "2.7.12"
  }
 },
 "nbformat": 4,
 "nbformat_minor": 0
}
