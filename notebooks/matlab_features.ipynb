{
 "cells": [
  {
   "cell_type": "markdown",
   "metadata": {
    "deletable": true,
    "editable": true
   },
   "source": [
    "[This notebook is obsolete, it is only use for test ]\n",
    "\n",
    "# Classifiers based on features extracted from matlab\n",
    "\n",
    "In this notebook we use the different arff files obtained from matlab. We will use this features to obtain classifiers and test them in a cross validation process.\n",
    "\n",
    "## A bit of set up\n",
    "\n",
    "We need numpy and pandas for data. Pickle and gzip for read the extracted features"
   ]
  },
  {
   "cell_type": "code",
   "execution_count": 1,
   "metadata": {
    "collapsed": true,
    "deletable": true,
    "editable": true
   },
   "outputs": [],
   "source": [
    "# set up Python environment: numpy for numerical routines\n",
    "import numpy as np\n",
    "import pandas as pd\n",
    "\n",
    "# for store the results\n",
    "import pickle\n",
    "import gzip\n",
    "\n",
    "import sys\n",
    "sys.path.append('../pycode/')\n",
    "import utilsData"
   ]
  },
  {
   "cell_type": "markdown",
   "metadata": {
    "deletable": true,
    "editable": true
   },
   "source": [
    "In this example we only use the default linear SVM classifier from libsvm and the Gaussian NB from sklearn"
   ]
  },
  {
   "cell_type": "code",
   "execution_count": 2,
   "metadata": {
    "collapsed": false,
    "deletable": true,
    "editable": true
   },
   "outputs": [],
   "source": [
    "from sklearn import svm\n",
    "from sklearn.naive_bayes import GaussianNB"
   ]
  },
  {
   "cell_type": "markdown",
   "metadata": {
    "deletable": true,
    "editable": true
   },
   "source": [
    "## Feature reading\n",
    "\n",
    "In this example only one package is read, but each ones have a size of 80Mb approximately."
   ]
  },
  {
   "cell_type": "code",
   "execution_count": 3,
   "metadata": {
    "collapsed": false,
    "deletable": true,
    "editable": true,
    "scrolled": false
   },
   "outputs": [],
   "source": [
    "data = pickle.load(gzip.open('../packages/AVA_info.pklz','rb',2))\n",
    "num_images,num_info_vars = data.shape"
   ]
  },
  {
   "cell_type": "code",
   "execution_count": 4,
   "metadata": {
    "collapsed": false,
    "deletable": true,
    "editable": true
   },
   "outputs": [],
   "source": [
    "total_files=['PHOG/','CHIST.arff', 'GHIST.arff', 'GIST_ori8_block4.arff', 'Centrist.arff']\n",
    "phog_files=['2_bins360_levels0_angle360.arff', '3_bins300_levels0_angle360.arff', '4_bins200_levels0_angle360.arff',\n",
    "            '5_bins100_levels0_angle360.arff', '6_bins50_levels0_angle360.arff', '7_bins20_levels0_angle360.arff',\n",
    "            '8_bins100_levels1_angle360.arff', '9_bins50_levels1_angle360.arff', '10_bins20_levels1_angle360_redux.arff',\n",
    "            '11_bins50_levels2_angle360.arff', '12_bins20_levels2_angle360.arff']"
   ]
  },
  {
   "cell_type": "code",
   "execution_count": null,
   "metadata": {
    "collapsed": false,
    "deletable": true,
    "editable": true
   },
   "outputs": [],
   "source": [
    "if sys.argv[1] == '0':\n",
    "    features = utilsData.readARFF('features/AVA/'+total_files[int(sys.argv[1])]+phog_files[int(sys.argv[2])])\n",
    "else:\n",
    "    features = utilsData.readARFF('features/AVA/'+total_files[int(sys.argv[1])])"
   ]
  },
  {
   "cell_type": "code",
   "execution_count": 5,
   "metadata": {
    "collapsed": false,
    "deletable": true,
    "editable": true
   },
   "outputs": [],
   "source": [
    "# This block must be eliminated, is only for test in the notebook\n",
    "batches = 100\n",
    "delta = 2.5\n",
    "sys.path.append('../pycode/')\n",
    "import utilsData\n",
    "features = utilsData.readARFF('../features/AVA/GHIST.arff')"
   ]
  },
  {
   "cell_type": "code",
   "execution_count": 6,
   "metadata": {
    "collapsed": false,
    "deletable": true,
    "editable": true,
    "scrolled": true
   },
   "outputs": [],
   "source": [
    "num_features = len(features.columns)-1\n",
    "data=pd.merge(data, features, on='id')\n",
    "del features"
   ]
  },
  {
   "cell_type": "code",
   "execution_count": 7,
   "metadata": {
    "collapsed": false,
    "deletable": true,
    "editable": true
   },
   "outputs": [],
   "source": [
    "data.loc[:,'id'] = data['id'].apply(str)\n",
    "classes = np.array(data.sort_values(['id']).loc[:,'Class'])\n",
    "features = np.array(data.sort_values(['id']).iloc[:,num_info_vars:num_features+num_info_vars])\n",
    "means = np.array(data.sort_values(['id']).loc[:,'VotesMean'])"
   ]
  },
  {
   "cell_type": "code",
   "execution_count": null,
   "metadata": {
    "collapsed": true,
    "deletable": true,
    "editable": true
   },
   "outputs": [],
   "source": [
    "# This block is for transfer the data for the C# implementation\n",
    "data_for_c = data.sort_values(['id']).iloc[:,num_info_vars:num_features+num_info_vars]\n",
    "data_for_c['Class'] = classes\n",
    "data_for_c.to_csv('../packages/data_for_c.csv',index=False)"
   ]
  },
  {
   "cell_type": "code",
   "execution_count": 8,
   "metadata": {
    "collapsed": true,
    "deletable": true,
    "editable": true
   },
   "outputs": [],
   "source": [
    "def balance_class(features, classes):\n",
    "    classes_uniques = np.unique(classes)\n",
    "    min_class = np.array([0,float('Inf')])\n",
    "    for i in classes_uniques:\n",
    "        aux_value = np.sum(classes == i)\n",
    "        if aux_value < min_class[1]:\n",
    "            min_class = np.array([i,aux_value])\n",
    "            \n",
    "    final_indexes = np.where(classes == min_class[0])[0]\n",
    "    for i in classes_uniques:\n",
    "        if i != min_class[0]:\n",
    "            aux_indexes = np.where(classes == i)[0]\n",
    "            #print np.random.choice(aux_indexes,replace=False,size=min_class[1])\n",
    "            final_indexes = np.concatenate((final_indexes,np.random.choice(aux_indexes,replace=False,size=min_class[1])))\n",
    "            \n",
    "    final_indexes = np.sort(final_indexes)\n",
    "    return (features[final_indexes],classes[final_indexes])\n",
    "                                "
   ]
  },
  {
   "cell_type": "code",
   "execution_count": 9,
   "metadata": {
    "collapsed": false,
    "deletable": true,
    "editable": true
   },
   "outputs": [],
   "source": [
    "train_features,train_classes = balance_class(features,classes)"
   ]
  },
  {
   "cell_type": "code",
   "execution_count": null,
   "metadata": {
    "collapsed": false,
    "deletable": true,
    "editable": true
   },
   "outputs": [],
   "source": [
    "data_balanced_c = pd.DataFrame(train_features)\n",
    "data_balanced_c['Class'] = train_classes\n",
    "data_balanced_c.to_csv('../packages/data_balanced_c.csv',index=False)"
   ]
  },
  {
   "cell_type": "code",
   "execution_count": null,
   "metadata": {
    "collapsed": false,
    "deletable": true,
    "editable": true
   },
   "outputs": [],
   "source": [
    "nbg_clf = GaussianNB()\n",
    "nbg_clf.fit(features, classes)"
   ]
  },
  {
   "cell_type": "code",
   "execution_count": 10,
   "metadata": {
    "collapsed": false,
    "deletable": true,
    "editable": true
   },
   "outputs": [
    {
     "data": {
      "text/plain": [
       "GaussianNB(priors=None)"
      ]
     },
     "execution_count": 10,
     "metadata": {},
     "output_type": "execute_result"
    }
   ],
   "source": [
    "nbg_clf = GaussianNB()\n",
    "nbg_clf.fit(train_features, train_classes)"
   ]
  },
  {
   "cell_type": "code",
   "execution_count": null,
   "metadata": {
    "collapsed": false,
    "deletable": true,
    "editable": true
   },
   "outputs": [],
   "source": [
    "nbg_clf.predict_proba(data[data['id']=='10002'].iloc[:,num_info_vars:num_features+num_info_vars])"
   ]
  },
  {
   "cell_type": "code",
   "execution_count": null,
   "metadata": {
    "collapsed": true,
    "deletable": true,
    "editable": true
   },
   "outputs": [],
   "source": [
    "predictions = nbg_clf.predict(features)"
   ]
  },
  {
   "cell_type": "code",
   "execution_count": null,
   "metadata": {
    "collapsed": false,
    "deletable": true,
    "editable": true
   },
   "outputs": [],
   "source": [
    "np.sum(predictions==classes)/len(classes)"
   ]
  },
  {
   "cell_type": "code",
   "execution_count": null,
   "metadata": {
    "collapsed": false,
    "deletable": true,
    "editable": true,
    "scrolled": true
   },
   "outputs": [],
   "source": [
    "data.sort_values(['id']).loc[np.logical_and(predictions==0,classes==0),'id']"
   ]
  },
  {
   "cell_type": "code",
   "execution_count": 11,
   "metadata": {
    "collapsed": true,
    "deletable": true,
    "editable": true
   },
   "outputs": [],
   "source": [
    "import cv2"
   ]
  },
  {
   "cell_type": "code",
   "execution_count": 48,
   "metadata": {
    "collapsed": false,
    "deletable": true,
    "editable": true
   },
   "outputs": [],
   "source": [
    "img = cv2.imread('20170829185812.png',0)\n",
    "[counts,bins] = np.histogram(img,bins=256,range=[0,256])\n",
    "gray_hist = counts/np.sum(counts)"
   ]
  },
  {
   "cell_type": "code",
   "execution_count": 37,
   "metadata": {
    "collapsed": false,
    "deletable": true,
    "editable": true
   },
   "outputs": [
    {
     "name": "stderr",
     "output_type": "stream",
     "text": [
      "/usr/local/lib/python3.4/dist-packages/sklearn/utils/validation.py:395: DeprecationWarning: Passing 1d arrays as data is deprecated in 0.17 and will raise ValueError in 0.19. Reshape your data either using X.reshape(-1, 1) if your data has a single feature or X.reshape(1, -1) if it contains a single sample.\n",
      "  DeprecationWarning)\n"
     ]
    },
    {
     "data": {
      "text/plain": [
       "array([[ 0.94989437,  0.05010563]])"
      ]
     },
     "execution_count": 37,
     "metadata": {},
     "output_type": "execute_result"
    }
   ],
   "source": [
    "nbg_clf.predict_proba(gray_hist)"
   ]
  },
  {
   "cell_type": "code",
   "execution_count": 38,
   "metadata": {
    "collapsed": false,
    "deletable": true,
    "editable": true,
    "scrolled": true
   },
   "outputs": [
    {
     "name": "stderr",
     "output_type": "stream",
     "text": [
      "/usr/local/lib/python3.4/dist-packages/sklearn/utils/validation.py:395: DeprecationWarning: Passing 1d arrays as data is deprecated in 0.17 and will raise ValueError in 0.19. Reshape your data either using X.reshape(-1, 1) if your data has a single feature or X.reshape(1, -1) if it contains a single sample.\n",
      "  DeprecationWarning)\n"
     ]
    },
    {
     "data": {
      "text/plain": [
       "array([0])"
      ]
     },
     "execution_count": 38,
     "metadata": {},
     "output_type": "execute_result"
    }
   ],
   "source": [
    "nbg_clf.predict(gray_hist)"
   ]
  },
  {
   "cell_type": "code",
   "execution_count": null,
   "metadata": {
    "collapsed": false,
    "deletable": true,
    "editable": true
   },
   "outputs": [],
   "source": [
    "indexes = np.array(range(0,len(classes))[:len(classes)-(len(classes) % batches)])\n",
    "indexes = indexes.reshape((batches,-1))"
   ]
  },
  {
   "cell_type": "markdown",
   "metadata": {
    "deletable": true,
    "editable": true
   },
   "source": [
    "## Cross validation\n",
    "\n",
    "In this case, we prepare vectors with the batches of each fold in order to test them in galgo and store the results.\n",
    "\n",
    "* First, we split the batches in 5 folds:"
   ]
  },
  {
   "cell_type": "code",
   "execution_count": null,
   "metadata": {
    "collapsed": false,
    "deletable": true,
    "editable": true
   },
   "outputs": [],
   "source": [
    "np.random.seed(1000)\n",
    "num_folds = 5\n",
    "batches = 100\n",
    "delta = 2\n",
    "folds = np.random.choice(range(0,batches),replace=False,size=(num_folds,int(batches/num_folds)))"
   ]
  },
  {
   "cell_type": "code",
   "execution_count": null,
   "metadata": {
    "collapsed": false,
    "deletable": true,
    "editable": true
   },
   "outputs": [],
   "source": [
    "sum_folds_svm = 0\n",
    "sum_folds_nbg = 0\n",
    "matrix_svm = np.zeros((2,2))\n",
    "matrix_nbg = np.zeros((2,2))\n",
    "for i in range(0, num_folds):\n",
    "    \n",
    "    # Prepare train\n",
    "    train_indices = indexes[np.delete(folds,i,axis=0).reshape(-1)].reshape(-1)\n",
    "    train_features = features[train_indices]\n",
    "    train_classes = classes[train_indices]\n",
    "    train_means = means[train_indices]\n",
    "    \n",
    "    # Delete values depending on the delta\n",
    "    vector_out_delta = (train_means <= 5-delta) | (train_means >= 5+delta)\n",
    "    train_features = train_features[vector_out_delta]\n",
    "    train_classes = train_classes[vector_out_delta]\n",
    "    \n",
    "    # Class balance\n",
    "    train_features,train_classes = balance_class(train_features,train_classes)\n",
    "    \n",
    "    # Fit models\n",
    "    svm_clf = svm.LinearSVC()\n",
    "    svm_clf.fit(train_features, train_classes)\n",
    "\n",
    "    nbg_clf = GaussianNB()\n",
    "    nbg_clf.fit(train_features, train_classes)\n",
    "    \n",
    "    # Prepare test\n",
    "    test_indices = indexes[folds[i]].reshape(-1)\n",
    "    test_features = features[test_indices]\n",
    "    test_classes = classes[test_indices]\n",
    "    \n",
    "    # Evaluate SVM model\n",
    "    predictions = svm_clf.predict(test_features)\n",
    "    results = np.sum(predictions == test_classes)/float(len(predictions))\n",
    "    sum_folds_svm += results\n",
    "    \n",
    "    matrix_svm[0,0] += np.sum(predictions[predictions == test_classes] == 0)\n",
    "    matrix_svm[0,1] += np.sum(predictions[predictions != test_classes] == 1)\n",
    "    matrix_svm[1,0] += np.sum(predictions[predictions != test_classes] == 0)\n",
    "    matrix_svm[1,1] += np.sum(predictions[predictions == test_classes] == 1)\n",
    "    \n",
    "    # Evaluate gnb model\n",
    "    predictions = nbg_clf.predict(test_features)\n",
    "    results = np.sum(predictions == test_classes)/float(len(predictions))\n",
    "    sum_folds_nbg += results\n",
    "    \n",
    "    matrix_nbg[0,0] += np.sum(predictions[predictions == test_classes] == 0)\n",
    "    matrix_nbg[0,1] += np.sum(predictions[predictions != test_classes] == 1)\n",
    "    matrix_nbg[1,0] += np.sum(predictions[predictions != test_classes] == 0)\n",
    "    matrix_nbg[1,1] += np.sum(predictions[predictions == test_classes] == 1)"
   ]
  },
  {
   "cell_type": "code",
   "execution_count": null,
   "metadata": {
    "collapsed": false,
    "deletable": true,
    "editable": true
   },
   "outputs": [],
   "source": [
    "data_results = {'accuracy':sum_folds_svm/num_folds, 'conf_matrix':matrix_svm, 'classifier':'SVM-L', 'descriptor':total_files[int(sys.argv[1])], 'delta':delta}\n",
    "if sys.argv[1] == '0':\n",
    "    data_results['case']=phog_files[int(sys.argv[2])]\n",
    "    pickle.dump(data_results, gzip.open(\"results/SVM_balanced_Descriptor%d_Case%d.pklz\" % (int(sys.argv[1]),int(sys.argv[2])), \"wb\" ), 2)\n",
    "else:\n",
    "    pickle.dump(data_results, gzip.open(\"results/SVM_balanced_Descriptor%d.pklz\" % (int(sys.argv[1])), \"wb\" ), 2)\n",
    "\n",
    "data_results = {'accuracy':sum_folds_nbg/num_folds, 'conf_matrix':matrix_nbg, 'classifier':'NB-G', 'descriptor':total_files[int(sys.argv[1])], 'delta':delta}\n",
    "if sys.argv[1] == '0':\n",
    "    data_results['case']=phog_files[int(sys.argv[2])]\n",
    "    pickle.dump(data_results, gzip.open(\"results/GNB_balanced_Descriptor%d_Case%d.pklz\" % (int(sys.argv[1]),int(sys.argv[2])), \"wb\" ), 2)\n",
    "else:\n",
    "    pickle.dump(data_results, gzip.open(\"results/GNB_balanced_Descriptor%d.pklz\" % (int(sys.argv[1])), \"wb\" ), 2)\n"
   ]
  },
  {
   "cell_type": "code",
   "execution_count": null,
   "metadata": {
    "collapsed": false,
    "deletable": true,
    "editable": true
   },
   "outputs": [],
   "source": [
    "dict_rest = pickle.load(gzip.open('../results/GNB_balanced_Descriptor0_Case0.pklz','rb',2))"
   ]
  }
 ],
 "metadata": {
  "kernelspec": {
   "display_name": "Python 3",
   "language": "python",
   "name": "python3"
  },
  "language_info": {
   "codemirror_mode": {
    "name": "ipython",
    "version": 3
   },
   "file_extension": ".py",
   "mimetype": "text/x-python",
   "name": "python",
   "nbconvert_exporter": "python",
   "pygments_lexer": "ipython3",
   "version": "3.4.2"
  }
 },
 "nbformat": 4,
 "nbformat_minor": 0
}
