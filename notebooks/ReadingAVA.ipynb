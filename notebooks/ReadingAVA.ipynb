{
 "cells": [
  {
   "cell_type": "code",
   "execution_count": 2,
   "metadata": {
    "collapsed": false
   },
   "outputs": [],
   "source": [
    "import os.path\n",
    "import pickle\n",
    "import pandas\n",
    "import numpy\n",
    "import gzip\n",
    "\n",
    "mainPath='/home/frubio/AVA/'"
   ]
  },
  {
   "cell_type": "code",
   "execution_count": 2,
   "metadata": {
    "collapsed": false,
    "scrolled": true
   },
   "outputs": [],
   "source": [
    "challenge_dict={}\n",
    "f = open(mainPath+'AVA_dataset/challenges.txt', 'r')\n",
    "for line in f:\n",
    "    strSplit=line.split()\n",
    "    challenge_dict[int(strSplit[0])]=strSplit[1]\n",
    "\n",
    "f.close()"
   ]
  },
  {
   "cell_type": "code",
   "execution_count": 3,
   "metadata": {
    "collapsed": false
   },
   "outputs": [],
   "source": [
    "tags_dict={}\n",
    "f = open(mainPath+'AVA_dataset/tags.txt', 'r')\n",
    "for line in f:\n",
    "    strSplit=line.split()\n",
    "    tags_dict[int(strSplit[0])]=strSplit[1]\n",
    "\n",
    "f.close()"
   ]
  },
  {
   "cell_type": "code",
   "execution_count": 4,
   "metadata": {
    "collapsed": false
   },
   "outputs": [],
   "source": [
    "styles_dict={}\n",
    "f = open(mainPath+'AVA_dataset/style_image_lists/styles.txt', 'r')\n",
    "for line in f:\n",
    "    strSplit=line.split()\n",
    "    styles_dict[int(strSplit[0])]=strSplit[1]\n",
    "\n",
    "f.close()"
   ]
  },
  {
   "cell_type": "code",
   "execution_count": 5,
   "metadata": {
    "collapsed": false
   },
   "outputs": [],
   "source": [
    "trainStyle_dict={}\n",
    "f1 = open(mainPath+'AVA_dataset/style_image_lists/train.jpgl', 'r')\n",
    "f2 = open(mainPath+'AVA_dataset/style_image_lists/train.lab', 'r')\n",
    "\n",
    "for line in f1:\n",
    "    auxLine=f2.readline()\n",
    "    trainStyle_dict[int(line)]=int(auxLine)\n",
    "\n",
    "f1.close()\n",
    "f2.close()"
   ]
  },
  {
   "cell_type": "code",
   "execution_count": 6,
   "metadata": {
    "collapsed": false
   },
   "outputs": [],
   "source": [
    "testStyle_dict={}\n",
    "f1 = open(mainPath+'AVA_dataset/style_image_lists/test.jpgl', 'r')\n",
    "f2 = open(mainPath+'AVA_dataset/style_image_lists/test.multilab', 'r')\n",
    "\n",
    "for line in f1:\n",
    "    auxLine=f2.readline()\n",
    "    testStyle_dict[int(line)]=map(int, auxLine.split())\n",
    "\n",
    "f1.close()\n",
    "f2.close()"
   ]
  },
  {
   "cell_type": "code",
   "execution_count": 7,
   "metadata": {
    "collapsed": false
   },
   "outputs": [],
   "source": [
    "aesthetics_dict={1:'animal',2:'architecture',3:'cityscape',4:'floral',\n",
    "                 5:'fooddrink',6:'landscape',7:'portrait',8:'stilllife'}\n",
    "\n",
    "ttAesthetics_dict={}\n",
    "\n",
    "count=1\n",
    "for i in aesthetics_dict:\n",
    "    f1 = open(mainPath+'AVA_dataset/aesthetics_image_lists/'+aesthetics_dict[i]+'_train.jpgl', 'r')\n",
    "    for line in f1:\n",
    "        if int(line) in ttAesthetics_dict:\n",
    "            print line\n",
    "            aux=ttAesthetics_dict[int(line)]\n",
    "            if isinstance(aux,list):\n",
    "                ttAesthetics_dict[int(line)].append(count)\n",
    "            else:\n",
    "                ttAesthetics_dict[int(line)]=[ttAesthetics_dict[int(line)],count]\n",
    "        else:\n",
    "            ttAesthetics_dict[int(line)]=count\n",
    "    f1.close()\n",
    "    \n",
    "    f1 = open(mainPath+'AVA_dataset/aesthetics_image_lists/'+aesthetics_dict[i]+'_test.jpgl', 'r')\n",
    "    for line in f1:\n",
    "        if int(line) in ttAesthetics_dict:\n",
    "            print line\n",
    "            aux=ttAesthetics_dict[int(line)]\n",
    "            if isinstance(aux,list):\n",
    "                ttAesthetics_dict[int(line)].append(count)\n",
    "            else:\n",
    "                ttAesthetics_dict[int(line)]=[ttAesthetics_dict[int(line)],count]\n",
    "        else:\n",
    "            ttAesthetics_dict[int(line)]=count\n",
    "    f1.close()\n",
    "    \n",
    "    count+=1\n"
   ]
  },
  {
   "cell_type": "code",
   "execution_count": 8,
   "metadata": {
    "collapsed": false,
    "scrolled": true
   },
   "outputs": [],
   "source": [
    "vector=[]\n",
    "f = open(mainPath+'AVA_dataset/AVA.txt', 'r')\n",
    "\n",
    "for line in f:\n",
    "    strSplit=line.split()\n",
    "    fname=mainPath+'images/'+strSplit[1]+'.jpg'\n",
    "    if os.path.isfile(fname):\n",
    "        vector.append(map(int, strSplit))\n",
    "        \n",
    "f.close()\n",
    "        \n",
    "npArray=numpy.array(vector)\n",
    "votes=['vote'+str(s) for s in range(1,11)]\n",
    "myList=['line','id']+votes+['tag1','tag2','challenge']\n",
    "\n",
    "data=pandas.DataFrame(npArray,columns=myList)"
   ]
  },
  {
   "cell_type": "code",
   "execution_count": 9,
   "metadata": {
    "collapsed": false,
    "scrolled": true
   },
   "outputs": [],
   "source": [
    "for i in styles_dict:\n",
    "    data.loc[:,styles_dict[i]] = numpy.nan"
   ]
  },
  {
   "cell_type": "code",
   "execution_count": 10,
   "metadata": {
    "collapsed": true
   },
   "outputs": [],
   "source": [
    "for i in aesthetics_dict:\n",
    "    data.loc[:,aesthetics_dict[i]] = numpy.nan"
   ]
  },
  {
   "cell_type": "code",
   "execution_count": 11,
   "metadata": {
    "collapsed": false,
    "scrolled": true
   },
   "outputs": [],
   "source": [
    "for k in range(0,len(data)):\n",
    "    if int(data.iloc[k,1]) in trainStyle_dict:\n",
    "        data.iloc[k,14+trainStyle_dict[data.iloc[k,1]]]=1\n",
    "\n",
    "    if int(data.iloc[k,1]) in testStyle_dict:\n",
    "        count=15\n",
    "        for i in testStyle_dict[data.iloc[k,1]]:\n",
    "            if i==1:\n",
    "                data.iloc[k,count]=1\n",
    "            else:\n",
    "                data.iloc[k,count]=0\n",
    "            count+=1\n",
    "    \n",
    "    if int(data.iloc[k,1]) in ttAesthetics_dict:\n",
    "        valueAES=ttAesthetics_dict[data.iloc[k,1]]\n",
    "        if isinstance(valueAES,list):\n",
    "            for i in valueAES:\n",
    "                data.iloc[k,28+i]=1\n",
    "        else:\n",
    "            data.iloc[k,28+valueAES]=1\n",
    "    "
   ]
  },
  {
   "cell_type": "code",
   "execution_count": 22,
   "metadata": {
    "collapsed": true
   },
   "outputs": [],
   "source": [
    "pickle.dump( data, gzip.open( \"info.pklz\", \"wb\" ),2)\n"
   ]
  },
  {
   "cell_type": "code",
   "execution_count": 4,
   "metadata": {
    "collapsed": true
   },
   "outputs": [],
   "source": [
    "pickle.dump( tags_dict, gzip.open( \"tags.pklz\", \"wb\" ),2)"
   ]
  },
  {
   "cell_type": "code",
   "execution_count": null,
   "metadata": {
    "collapsed": true
   },
   "outputs": [],
   "source": []
  }
 ],
 "metadata": {
  "kernelspec": {
   "display_name": "Python 2",
   "language": "python",
   "name": "python2"
  },
  "language_info": {
   "codemirror_mode": {
    "name": "ipython",
    "version": 2
   },
   "file_extension": ".py",
   "mimetype": "text/x-python",
   "name": "python",
   "nbconvert_exporter": "python",
   "pygments_lexer": "ipython2",
   "version": "2.7.12"
  }
 },
 "nbformat": 4,
 "nbformat_minor": 0
}
