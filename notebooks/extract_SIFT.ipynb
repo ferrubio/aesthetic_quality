{
 "cells": [
  {
   "cell_type": "code",
   "execution_count": 8,
   "metadata": {
    "collapsed": true,
    "deletable": true,
    "editable": true
   },
   "outputs": [],
   "source": [
    "import os.path\n",
    "import numpy as np\n",
    "import cv2\n",
    "import sys\n",
    "import pickle\n",
    "import gzip\n",
    "\n",
    "import matplotlib.pyplot as plt\n",
    "%matplotlib inline\n",
    "\n",
    "mainPath='/home/frubio/AVA/'"
   ]
  },
  {
   "cell_type": "code",
   "execution_count": null,
   "metadata": {
    "collapsed": false,
    "deletable": true,
    "editable": true
   },
   "outputs": [],
   "source": [
    "# Estas son las lineas que obtienen el radio en el metodo SIFT de opencv a partir de un keypoint\n",
    "kp = [cv2.KeyPoint(116, 116, 3.02)]\n",
    "\n",
    "SIFT_DESCR_WIDTH = 4\n",
    "SIFT_DESCR_SCL_FCTR = 3.0\n",
    "\n",
    "scale = 1/2**kp[0].octave\n",
    "    \n",
    "d = SIFT_DESCR_WIDTH\n",
    "    \n",
    "size = kp[0].size * scale\n",
    "\n",
    "scl = size * 0.5\n",
    "\n",
    "hist_width = SIFT_DESCR_SCL_FCTR * scl\n",
    "\n",
    "radius = np.around(hist_width * 1.4142135623730951 * (d + 1) * 0.5);"
   ]
  },
  {
   "cell_type": "code",
   "execution_count": 2,
   "metadata": {
    "collapsed": false,
    "deletable": true,
    "editable": true
   },
   "outputs": [],
   "source": [
    "def extractSizeFromRadius(radius):\n",
    "    SIFT_DESCR_WIDTH = 4\n",
    "    SIFT_DESCR_SCL_FCTR = 3.0\n",
    "\n",
    "    final_size = radius / (SIFT_DESCR_SCL_FCTR * (SIFT_DESCR_WIDTH + 1) * 0.5 * 0.5 * 1.4142135623730951)\n",
    "    return final_size"
   ]
  },
  {
   "cell_type": "code",
   "execution_count": 3,
   "metadata": {
    "collapsed": false,
    "deletable": true,
    "editable": true
   },
   "outputs": [],
   "source": [
    "def extractdSIFTatScales(file, scales, initial_radius, factor_step):\n",
    "    img = cv2.imread(mainPath+'AVADataset/'+file+'.jpg')\n",
    "    gray= cv2.cvtColor(img,cv2.COLOR_BGR2GRAY)\n",
    "    \n",
    "    sift = cv2.xfeatures2d.SIFT_create()\n",
    "    \n",
    "    radius = initial_radius\n",
    "    \n",
    "    for i in range(0,scales):\n",
    "        step_size = extractSizeFromRadius(radius)\n",
    "        kp = [cv2.KeyPoint(x, y, step_size) for y in range(radius, gray.shape[0], radius*2) \n",
    "                                        for x in range(radius, gray.shape[1], radius*2)]\n",
    "        dense_feat = sift.compute(gray, kp)\n",
    "        \n",
    "        if i==0:\n",
    "            final_feat = dense_feat[1]\n",
    "        else:\n",
    "            final_feat = np.concatenate((final_feat,dense_feat[1]), axis=0)\n",
    "        \n",
    "        radius = int(np.around(radius*factor_step))\n",
    "        \n",
    "    pickle.dump(final_feat, gzip.open(\"/home/frubio/aesthetic_quality/features/dSIFT/initialRad{:d}_scales{:d}_factor{:.1f}/AVA/{}.pklz\".format(initial_radius,scales,factor_step,file), \"wb\" ),2)\n",
    "    #pickle.dump(final_feat, gzip.open(\"/home/frubio/aesthetic_quality/features/dSIFT/{}.pklz\".format(file), \"wb\" ),2)"
   ]
  },
  {
   "cell_type": "code",
   "execution_count": 4,
   "metadata": {
    "collapsed": false,
    "deletable": true,
    "editable": true
   },
   "outputs": [],
   "source": [
    "scales = 5\n",
    "initial_radius = 16\n",
    "factor_step = 1.2\n",
    "\n",
    "f = open(mainPath+'AVA_files/AVA.txt', 'r')dsilab\n",
    "\n",
    "for line in f:\n",
    "    strSplit=line.split()\n",
    "    fname=mainPath+'AVADataset/'+strSplit[1]+'.jpg'\n",
    "    if os.path.isfile(fname):\n",
    "        extractdSIFTatScales(strSplit[1], scales, initial_radius, factor_step)\n",
    "        \n",
    "    break\n",
    "f.close()"
   ]
  },
  {
   "cell_type": "code",
   "execution_count": null,
   "metadata": {
    "collapsed": false,
    "deletable": true,
    "editable": true
   },
   "outputs": [],
   "source": [
    "img = cv2.imread('/home/frubio/AVA/AVADataset/953619.jpg')\n",
    "destRGB = cv2.cvtColor(img, cv2.COLOR_BGR2RGB)\n",
    "imgplot = plt.imshow(destRGB)"
   ]
  },
  {
   "cell_type": "code",
   "execution_count": 5,
   "metadata": {
    "collapsed": true,
    "deletable": true,
    "editable": true
   },
   "outputs": [],
   "source": [
    "sift = pickle.load(gzip.open(\"/home/frubio/aesthetic_quality/features/dSIFT/initialRad16_scales5_factor1.2/AVA/953004.pklz\",\"rb\",2))"
   ]
  },
  {
   "cell_type": "code",
   "execution_count": 7,
   "metadata": {
    "collapsed": false,
    "deletable": true,
    "editable": true
   },
   "outputs": [
    {
     "data": {
      "text/plain": [
       "(1408, 128)"
      ]
     },
     "execution_count": 7,
     "metadata": {},
     "output_type": "execute_result"
    }
   ],
   "source": [
    "sift.shape"
   ]
  },
  {
   "cell_type": "code",
   "execution_count": null,
   "metadata": {
    "collapsed": true
   },
   "outputs": [],
   "source": []
  }
 ],
 "metadata": {
  "kernelspec": {
   "display_name": "Python 3",
   "language": "python",
   "name": "python3"
  },
  "language_info": {
   "codemirror_mode": {
    "name": "ipython",
    "version": 3
   },
   "file_extension": ".py",
   "mimetype": "text/x-python",
   "name": "python",
   "nbconvert_exporter": "python",
   "pygments_lexer": "ipython3",
   "version": "3.4.2"
  }
 },
 "nbformat": 4,
 "nbformat_minor": 2
}
