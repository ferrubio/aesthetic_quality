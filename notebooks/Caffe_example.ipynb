{
 "cells": [
  {
   "cell_type": "markdown",
   "metadata": {
    "deletable": true,
    "editable": true
   },
   "source": [
    "# Classification: Instant Recognition with Caffe\n",
    "\n",
    "In this example we'll classify an image with the bundled CaffeNet model (which is based on the network architecture of Krizhevsky et al. for ImageNet).\n",
    "\n",
    "We'll compare CPU and GPU modes and then dig into the model to inspect features and the output."
   ]
  },
  {
   "cell_type": "markdown",
   "metadata": {
    "deletable": true,
    "editable": true
   },
   "source": [
    "### 1. Setup\n",
    "\n",
    "* First, set up Python, `numpy`, and `matplotlib`."
   ]
  },
  {
   "cell_type": "code",
   "execution_count": 1,
   "metadata": {
    "collapsed": false,
    "deletable": true,
    "editable": true
   },
   "outputs": [],
   "source": [
    "# set up Python environment: numpy for numerical routines, and matplotlib for plotting\n",
    "import numpy as np\n",
    "import matplotlib.pyplot as plt\n",
    "import pandas as pd\n",
    "\n",
    "# for store the results\n",
    "from six.moves import cPickle as pickle\n",
    "import gzip\n",
    "\n",
    "# display plots in this notebook\n",
    "%matplotlib inline\n",
    "\n",
    "# set display defaults\n",
    "plt.rcParams['figure.figsize'] = (10, 5)        # large images\n",
    "plt.rcParams['image.interpolation'] = 'nearest'  # don't interpolate: show square pixels\n",
    "plt.rcParams['image.cmap'] = 'gray'  # use grayscale output rather than a (potentially misleading) color heatmap"
   ]
  },
  {
   "cell_type": "markdown",
   "metadata": {
    "deletable": true,
    "editable": true
   },
   "source": [
    "* Load `caffe`."
   ]
  },
  {
   "cell_type": "code",
   "execution_count": 2,
   "metadata": {
    "collapsed": false,
    "deletable": true,
    "editable": true
   },
   "outputs": [],
   "source": [
    "# The caffe module needs to be on the Python path;\n",
    "#  we'll add it here explicitly.\n",
    "import sys\n",
    "import os\n",
    "caffe_root = '/opt/caffe/'  # this file should be run from {caffe_root}/examples (otherwise change this line)\n",
    "sys.path.insert(0, caffe_root + 'python')\n",
    "\n",
    "import caffe\n",
    "# If you get \"No module named _caffe\", either you have not built pycaffe or you have the wrong path."
   ]
  },
  {
   "cell_type": "markdown",
   "metadata": {
    "deletable": true,
    "editable": true
   },
   "source": [
    "- To avoid truncated images problem"
   ]
  },
  {
   "cell_type": "code",
   "execution_count": 3,
   "metadata": {
    "collapsed": true,
    "deletable": true,
    "editable": true
   },
   "outputs": [],
   "source": [
    "from PIL import ImageFile\n",
    "ImageFile.LOAD_TRUNCATED_IMAGES = True"
   ]
  },
  {
   "cell_type": "markdown",
   "metadata": {
    "deletable": true,
    "editable": true
   },
   "source": [
    "### 2. Load net and set up input preprocessing\n",
    "\n",
    "* Set Caffe to GPU mode (Tesla) and load the net from disk."
   ]
  },
  {
   "cell_type": "code",
   "execution_count": 4,
   "metadata": {
    "collapsed": true,
    "deletable": true,
    "editable": true
   },
   "outputs": [],
   "source": [
    "caffe.set_device(0)  # if we have multiple GPUs, pick the first one\n",
    "#caffe.set_mode_cpu()"
   ]
  },
  {
   "cell_type": "code",
   "execution_count": 25,
   "metadata": {
    "collapsed": false,
    "deletable": true,
    "editable": true
   },
   "outputs": [],
   "source": [
    "model_def = caffe_root + 'models/bvlc_reference_caffenet/deploy.prototxt'\n",
    "model_weights = caffe_root + 'models/bvlc_reference_caffenet/bvlc_reference_caffenet.caffemodel'\n",
    "\n",
    "net = caffe.Net(model_def,      # defines the structure of the model\n",
    "                model_weights,  # contains the trained weights\n",
    "                caffe.TEST)     # use test mode (e.g., don't perform dropout)"
   ]
  },
  {
   "cell_type": "markdown",
   "metadata": {
    "deletable": true,
    "editable": true
   },
   "source": [
    "* Set up input preprocessing. (We'll use Caffe's `caffe.io.Transformer` to do this, but this step is independent of other parts of Caffe, so any custom preprocessing code may be used).\n",
    "\n",
    "    Our default CaffeNet is configured to take images in BGR format. Values are expected to start in the range [0, 255] and then have the mean ImageNet pixel value subtracted from them. In addition, the channel dimension is expected as the first (_outermost_) dimension.\n",
    "    \n",
    "    As matplotlib will load images with values in the range [0, 1] in RGB format with the channel as the _innermost_ dimension, we are arranging for the needed transformations here."
   ]
  },
  {
   "cell_type": "code",
   "execution_count": 26,
   "metadata": {
    "collapsed": true,
    "deletable": true,
    "editable": true
   },
   "outputs": [],
   "source": [
    "# load the mean ImageNet image (as distributed with Caffe) for subtraction\n",
    "mu = np.load(caffe_root + 'python/caffe/imagenet/ilsvrc_2012_mean.npy')\n",
    "mu = mu.mean(1).mean(1)  # average over pixels to obtain the mean (BGR) pixel values"
   ]
  },
  {
   "cell_type": "code",
   "execution_count": 27,
   "metadata": {
    "collapsed": false,
    "deletable": true,
    "editable": true
   },
   "outputs": [],
   "source": [
    "# create transformer for the input called 'data'\n",
    "transformer = caffe.io.Transformer({'data': net.blobs['data'].data.shape})\n",
    "transformer.set_transpose('data', (2,0,1))  # move image channels to outermost dimension\n",
    "transformer.set_mean('data', mu)            # subtract the dataset-mean value in each channel\n",
    "transformer.set_raw_scale('data', 255)      # rescale from [0, 1] to [0, 255]\n",
    "transformer.set_channel_swap('data', (2,1,0))  # swap channels from RGB to BGR"
   ]
  },
  {
   "cell_type": "markdown",
   "metadata": {
    "deletable": true,
    "editable": true
   },
   "source": [
    "### 3. Extract the features\n",
    "\n",
    "* Now we're ready to perform classification. First we create an array with the files of the images."
   ]
  },
  {
   "cell_type": "markdown",
   "metadata": {
    "deletable": true,
    "editable": true
   },
   "source": [
    "* This function extracts decaf features in batches of a list of images"
   ]
  },
  {
   "cell_type": "code",
   "execution_count": null,
   "metadata": {
    "collapsed": false,
    "deletable": true,
    "editable": true
   },
   "outputs": [],
   "source": [
    "def extract_decaf_features(images_root,list_images,layer,net,transformer):\n",
    "    # set the size of the input (we can skip this if we're happy\n",
    "    # with the default; we can also change it later, e.g., for different batch sizes)\n",
    "    batch, C, H, W = net.blobs['data'].shape\n",
    "    \n",
    "    num_images = len(list_images)\n",
    "    \n",
    "    output_shape = net.blobs[layer].shape\n",
    "    output_shape[0] = num_images\n",
    "    output = np.zeros(output_shape)\n",
    "    \n",
    "    count = 0\n",
    "    while count < num_images:\n",
    "        pre_count = count    \n",
    "        for i in range(0,batch):\n",
    "            if count >= num_images:\n",
    "                i -= 1\n",
    "                break\n",
    "            try:\n",
    "                image = caffe.io.load_image(images_root + list_images[count])\n",
    "                if len(image.shape)>3:\n",
    "                    image = image[0]\n",
    "                transformed_image = transformer.preprocess('data', image)\n",
    "                net.blobs['data'].data[i] = transformed_image\n",
    "            except:\n",
    "                print (count)\n",
    "                raise\n",
    "            count += 1\n",
    "        \n",
    "        net.forward()\n",
    "    \n",
    "        output[pre_count:count]=net.blobs[layer].data[0:i+1]\n",
    "    \n",
    "    return output"
   ]
  },
  {
   "cell_type": "code",
   "execution_count": 7,
   "metadata": {
    "collapsed": false,
    "deletable": true,
    "editable": true
   },
   "outputs": [],
   "source": [
    "images_root = '/home/frubio/AVA/AVADataset/'\n",
    "list_images = os.listdir(images_root)\n",
    "list_images.sort()"
   ]
  },
  {
   "cell_type": "code",
   "execution_count": null,
   "metadata": {
    "collapsed": false,
    "deletable": true,
    "editable": true
   },
   "outputs": [],
   "source": [
    "decaf_features = extract_decaf_features(images_root,list_images[0:10],'fc6',net,transformer)"
   ]
  },
  {
   "cell_type": "code",
   "execution_count": null,
   "metadata": {
    "collapsed": true,
    "deletable": true,
    "editable": true
   },
   "outputs": [],
   "source": [
    "pickle.dump(decaf_features, gzip.open(\"aux_feat.pklz\",\"wb\" ), 2)"
   ]
  },
  {
   "cell_type": "code",
   "execution_count": null,
   "metadata": {
    "collapsed": true,
    "deletable": true,
    "editable": true
   },
   "outputs": [],
   "source": [
    "aux_feat = pickle.load(gzip.open('aux_feat.pklz','rb',2))"
   ]
  },
  {
   "cell_type": "markdown",
   "metadata": {
    "deletable": true,
    "editable": true
   },
   "source": [
    "* Finally, we call the function"
   ]
  },
  {
   "cell_type": "code",
   "execution_count": null,
   "metadata": {
    "collapsed": false,
    "deletable": true,
    "editable": true
   },
   "outputs": [],
   "source": [
    "divisions = 100\n",
    "batch_images = len(list_images)/divisions\n",
    "batch_images_rest = len(list_images)%divisions\n",
    "\n",
    "prev_images = 0\n",
    "post_images = batch_images\n",
    "\n",
    "for i in range(0,divisions):\n",
    "    decaf_features = extract_decaf_features(images_root,list_images[prev_images:post_images],'pool5',net,transformer)\n",
    "    pickle.dump(decaf_features, gzip.open( \"pool5_caffenet/pool5_caffenet_%02d.pklz\" % i, \"wb\" ), 2)\n",
    "    \n",
    "    decaf_features = extract_decaf_features(images_root,list_images[prev_images:post_images],'fc6',net,transformer)\n",
    "    pickle.dump(decaf_features, gzip.open( \"fc6_caffenet/fc6_caffenet_%02d.pklz\" % i, \"wb\" ), 2)\n",
    "    \n",
    "    decaf_features = extract_decaf_features(images_root,list_images[prev_images:post_images],'fc7',net,transformer)\n",
    "    pickle.dump(decaf_features, gzip.open( \"fc7_caffenet/fc7_caffenet_%02d.pklz\" % i, \"wb\" ), 2)\n",
    "    \n",
    "    prev_images += batch_images\n",
    "    post_images += batch_images\n",
    "    if post_images > len(list_images):\n",
    "        post_images = len(list_images)\n",
    "        \n",
    "decaf_features = extract_decaf_features(images_root,list_images[prev_images:len(list_images)],'fc7',net,transformer)\n",
    "pickle.dump(decaf_features, gzip.open( \"fc7_caffenet/fc7_caffenet_%02d.pklz\" % i, \"wb\" ), 2)"
   ]
  },
  {
   "cell_type": "code",
   "execution_count": null,
   "metadata": {
    "collapsed": true,
    "deletable": true,
    "editable": true
   },
   "outputs": [],
   "source": [
    "model_def = caffe_root + 'models/ResNet-152/ResNet-152-deploy.prototxt'\n",
    "model_weights = caffe_root + 'models/ResNet-152/ResNet-152-model.caffemodel'\n",
    "\n",
    "net = caffe.Net(model_def,      # defines the structure of the model\n",
    "                model_weights,  # contains the trained weights\n",
    "                caffe.TEST)     # use test mode (e.g., don't perform dropout)"
   ]
  },
  {
   "cell_type": "code",
   "execution_count": 15,
   "metadata": {
    "collapsed": true,
    "deletable": true,
    "editable": true
   },
   "outputs": [],
   "source": [
    "transformer = caffe.io.Transformer({'data': net.blobs['data'].data.shape})\n",
    "transformer.set_transpose('data', (2,0,1))  # move image channels to outermost dimension\n",
    "transformer.set_mean('data', mu)            # subtract the dataset-mean value in each channel\n",
    "transformer.set_raw_scale('data', 255)      # rescale from [0, 1] to [0, 255]\n",
    "transformer.set_channel_swap('data', (2,1,0))  # swap channels from RGB to BGR"
   ]
  },
  {
   "cell_type": "code",
   "execution_count": null,
   "metadata": {
    "collapsed": false,
    "deletable": true,
    "editable": true
   },
   "outputs": [],
   "source": [
    "divisions = 100\n",
    "batch_images = len(list_images)/divisions\n",
    "\n",
    "prev_images = 0\n",
    "post_images = batch_images\n",
    "\n",
    "for i in range(0,divisions):\n",
    "    decaf_features = extract_decaf_features(images_root,list_images[prev_images:post_images],'pool5',net,transformer)\n",
    "    pickle.dump(decaf_features, gzip.open( \"pool5_ResNet-152/pool5_ResNet-152_%02d.pklz\" % i, \"wb\" ), 2)\n",
    "    \n",
    "    prev_images += batch_images\n",
    "    post_images += batch_images\n",
    "    if post_images > len(list_images):\n",
    "        post_images = len(list_images)"
   ]
  },
  {
   "cell_type": "markdown",
   "metadata": {
    "deletable": true,
    "editable": true
   },
   "source": [
    "### 4. Adding the index to the features packages"
   ]
  },
  {
   "cell_type": "code",
   "execution_count": 4,
   "metadata": {
    "collapsed": true,
    "deletable": true,
    "editable": true
   },
   "outputs": [],
   "source": [
    "from shutil import copyfile"
   ]
  },
  {
   "cell_type": "code",
   "execution_count": 10,
   "metadata": {
    "collapsed": true,
    "deletable": true,
    "editable": true
   },
   "outputs": [],
   "source": [
    "features_file = '../features/AesNet_CaffeNet_fc7.pklz'"
   ]
  },
  {
   "cell_type": "code",
   "execution_count": 11,
   "metadata": {
    "collapsed": false,
    "deletable": true,
    "editable": true,
    "scrolled": true
   },
   "outputs": [],
   "source": [
    "index_images = [int(i[0:-4]) for i in list_images]\n",
    "features = pd.DataFrame( pickle.load(open(features_file,'rb')))\n",
    "features['id']= index_images\n",
    "pickle.dump(features,  open(\"../features/aux_file.pklz\", 'wb'), pickle.HIGHEST_PROTOCOL)"
   ]
  },
  {
   "cell_type": "code",
   "execution_count": 12,
   "metadata": {
    "collapsed": true,
    "deletable": true,
    "editable": true
   },
   "outputs": [],
   "source": [
    "copyfile(\"../features/aux_file.pklz\", features_file)\n",
    "os.remove(\"../features/aux_file.pklz\")"
   ]
  },
  {
   "cell_type": "markdown",
   "metadata": {
    "deletable": true,
    "editable": true
   },
   "source": [
    "### 6. Try your own image\n",
    "\n",
    "Now we'll grab an image from the web and classify it using the steps above.\n",
    "\n",
    "* Try setting `my_image_url` to any JPEG image URL."
   ]
  },
  {
   "cell_type": "code",
   "execution_count": 16,
   "metadata": {
    "collapsed": false,
    "deletable": true,
    "editable": true
   },
   "outputs": [
    {
     "name": "stdout",
     "output_type": "stream",
     "text": [
      "10 loops, best of 3: 1.07 s per loop\n"
     ]
    }
   ],
   "source": [
    "%%timeit -n 10\n",
    "# download an image\n",
    "#my_image_url = \"...\"  # paste your URL here\n",
    "# for example:\n",
    "# my_image_url = \"https://upload.wikimedia.org/wikipedia/commons/b/be/Orang_Utan%2C_Semenggok_Forest_Reserve%2C_Sarawak%2C_Borneo%2C_Malaysia.JPG\"\n",
    "#!wget -O image.jpg $my_image_url\n",
    "images_root = \"/home/frubio/AVA/AVADataset/\"\n",
    "# transform it and copy it into the net\n",
    "image = caffe.io.load_image(images_root+'10010.jpg')\n",
    "net.blobs['data'].data[...] = transformer.preprocess('data', image)\n",
    "\n",
    "# perform classification\n",
    "net.forward()\n",
    "\n",
    "# obtain the output probabilities\n",
    "output_prob = net.blobs['prob'].data[0]\n",
    "\n",
    "# sort top five predictions from softmax output\n",
    "#top_inds = output_prob.argsort()[::-1][:5]\n",
    "\n",
    "#plt.imshow(image)\n",
    "\n",
    "#print ('probabilities and labels:')\n",
    "#print(list(zip(output_prob[top_inds])))"
   ]
  },
  {
   "cell_type": "code",
   "execution_count": 22,
   "metadata": {
    "collapsed": false
   },
   "outputs": [
    {
     "name": "stdout",
     "output_type": "stream",
     "text": [
      "10 loops, best of 3: 1.12 s per loop\n"
     ]
    }
   ],
   "source": [
    "%%timeit -n 10\n",
    "net.forward()"
   ]
  },
  {
   "cell_type": "code",
   "execution_count": 21,
   "metadata": {
    "collapsed": false,
    "deletable": true,
    "editable": true
   },
   "outputs": [
    {
     "data": {
      "text/plain": [
       "(1, 3, 224, 224)"
      ]
     },
     "execution_count": 21,
     "metadata": {},
     "output_type": "execute_result"
    }
   ],
   "source": [
    "net.blobs['data'].data.shape"
   ]
  },
  {
   "cell_type": "code",
   "execution_count": 46,
   "metadata": {
    "collapsed": false
   },
   "outputs": [
    {
     "data": {
      "text/plain": [
       "(10, 256, 13, 13)"
      ]
     },
     "execution_count": 46,
     "metadata": {},
     "output_type": "execute_result"
    }
   ],
   "source": [
    "net.blobs['pool2'].data.shape"
   ]
  },
  {
   "cell_type": "code",
   "execution_count": 49,
   "metadata": {
    "collapsed": false
   },
   "outputs": [
    {
     "data": {
      "text/plain": [
       "781736"
      ]
     },
     "execution_count": 49,
     "metadata": {},
     "output_type": "execute_result"
    }
   ],
   "source": [
    "1000+4096+4096+9216+43264+64896+64896+43264+186624+69984+290400"
   ]
  },
  {
   "cell_type": "code",
   "execution_count": null,
   "metadata": {
    "collapsed": true,
    "deletable": true,
    "editable": true
   },
   "outputs": [],
   "source": [
    "feat = net.blobs['fc8'].data[0]\n",
    "plt.figure(figsize=(10,5))\n",
    "plt.plot(feat.flat)"
   ]
  },
  {
   "cell_type": "code",
   "execution_count": 23,
   "metadata": {
    "collapsed": true,
    "deletable": true,
    "editable": true
   },
   "outputs": [],
   "source": [
    "# perform classification\n",
    "net.forward()\n",
    "\n",
    "# obtain the output probabilities\n",
    "output_prob = net.blobs['prob'].data[0]"
   ]
  },
  {
   "cell_type": "code",
   "execution_count": 24,
   "metadata": {
    "collapsed": false,
    "deletable": true,
    "editable": true
   },
   "outputs": [
    {
     "data": {
      "text/plain": [
       "array([  7.00174098e-07,   6.05163659e-05,   1.69479154e-05,\n",
       "         1.31385923e-05,   1.09308879e-04,   2.15949331e-06,\n",
       "         9.97960706e-06,   7.18719184e-06,   9.28534121e-07,\n",
       "         2.05342894e-06,   1.06348477e-06,   6.23669564e-07,\n",
       "         1.46724938e-06,   1.44300930e-06,   3.19512537e-07,\n",
       "         1.11140298e-06,   1.93037249e-06,   2.60058044e-07,\n",
       "         5.58510806e-07,   7.83145140e-07,   3.34085348e-06,\n",
       "         1.36467452e-06,   1.08688619e-06,   9.63587809e-06,\n",
       "         9.74306644e-08,   1.08865381e-04,   1.27401494e-04,\n",
       "         1.88351143e-03,   6.51651120e-04,   4.35427246e-05,\n",
       "         5.05339312e-06,   8.98255093e-04,   1.71441119e-03,\n",
       "         2.11182469e-05,   3.97764787e-04,   6.47110141e-07,\n",
       "         2.58619384e-05,   2.92013124e-06,   1.01006684e-04,\n",
       "         2.43755039e-07,   3.93943010e-05,   5.86035594e-06,\n",
       "         3.16033970e-06,   4.36115840e-07,   1.24542903e-05,\n",
       "         1.41077699e-05,   2.09777572e-05,   2.15696991e-06,\n",
       "         1.09373934e-06,   1.37715097e-06,   7.36083166e-06,\n",
       "         1.27855242e-06,   6.92416623e-04,   8.85746966e-04,\n",
       "         7.69445760e-05,   3.03428369e-05,   4.35974740e-04,\n",
       "         5.37149117e-06,   1.13779832e-04,   3.42482876e-04,\n",
       "         1.02904218e-03,   1.95339075e-04,   6.62373423e-05,\n",
       "         6.65711468e-06,   1.89540478e-05,   1.12218673e-04,\n",
       "         2.83678601e-05,   1.34067523e-05,   6.68450521e-05,\n",
       "         2.23279721e-06,   9.41233066e-06,   3.22933169e-03,\n",
       "         1.64383309e-07,   2.32506092e-04,   1.72551918e-05,\n",
       "         7.71225779e-04,   1.10602123e-04,   3.38859274e-04,\n",
       "         1.46458503e-02,   3.47078574e-04,   6.32704541e-06,\n",
       "         5.66849849e-06,   7.07989216e-07,   2.84686223e-07,\n",
       "         6.99690872e-07,   6.98831911e-07,   7.55039707e-07,\n",
       "         7.15204408e-07,   6.40851067e-06,   1.82568257e-07,\n",
       "         2.45445051e-07,   6.96272082e-07,   1.42548515e-06,\n",
       "         5.90056607e-06,   5.69128424e-05,   4.45841522e-07,\n",
       "         1.28861893e-05,   1.64254095e-06,   8.84429301e-06,\n",
       "         1.47266828e-05,   8.49227035e-06,   1.01399689e-06,\n",
       "         1.52654070e-06,   4.58498223e-04,   9.12737323e-06,\n",
       "         5.36365405e-08,   7.88553109e-07,   7.11870089e-05,\n",
       "         2.15884870e-06,   3.66808848e-07,   2.96846974e-05,\n",
       "         1.62833882e-03,   5.36745902e-05,   1.45797303e-03,\n",
       "         7.12551689e-03,   4.88693831e-06,   7.31012335e-07,\n",
       "         7.33166928e-07,   1.95808152e-05,   2.38425673e-05,\n",
       "         5.58587781e-04,   2.65973813e-06,   5.42452544e-05,\n",
       "         1.80914526e-06,   1.74520901e-04,   8.77442071e-05,\n",
       "         4.61655509e-05,   4.39271105e-07,   2.94824076e-07,\n",
       "         5.04315040e-07,   3.76529133e-05,   6.00307359e-08,\n",
       "         1.40775364e-06,   1.79245149e-07,   4.65483572e-06,\n",
       "         1.33824733e-06,   1.43695232e-07,   2.34548747e-06,\n",
       "         2.07189686e-07,   9.02379816e-06,   4.73755648e-07,\n",
       "         5.27683596e-07,   8.21503534e-07,   1.03477796e-05,\n",
       "         6.11787254e-06,   3.34595188e-06,   4.54480869e-06,\n",
       "         1.11732097e-05,   2.28253211e-05,   9.55812902e-06,\n",
       "         3.07641494e-06,   1.10723540e-05,   4.94465439e-07,\n",
       "         2.93032758e-06,   8.03500006e-06,   1.11029385e-06,\n",
       "         1.56232727e-06,   5.99304622e-06,   4.39515861e-05,\n",
       "         9.61448950e-06,   2.61560513e-06,   2.48032266e-05,\n",
       "         6.50638913e-06,   3.52261122e-05,   1.18429364e-06,\n",
       "         1.97904410e-05,   1.61815497e-05,   1.07447443e-06,\n",
       "         6.84512561e-05,   3.56201745e-05,   1.26565169e-06,\n",
       "         1.58448660e-04,   1.18750344e-04,   1.28915428e-06,\n",
       "         7.00465671e-06,   5.42557302e-07,   2.43464751e-06,\n",
       "         4.07904463e-06,   1.72672168e-04,   3.44421255e-06,\n",
       "         2.05561537e-06,   2.07853782e-06,   1.53623648e-06,\n",
       "         2.14180341e-06,   4.74001536e-05,   1.43920033e-05,\n",
       "         5.69178655e-06,   4.96064513e-06,   1.11526583e-06,\n",
       "         1.05771642e-06,   3.99337353e-07,   7.44563840e-06,\n",
       "         2.85783557e-07,   2.06304406e-07,   2.33255520e-07,\n",
       "         1.01592450e-05,   3.75041327e-06,   6.42866439e-07,\n",
       "         3.16996108e-07,   5.59180705e-07,   1.26181135e-07,\n",
       "         1.68250165e-06,   9.68071618e-06,   7.54101029e-06,\n",
       "         2.37374888e-06,   1.87297519e-06,   5.13396617e-06,\n",
       "         3.52182833e-05,   1.22977999e-05,   6.76314157e-05,\n",
       "         2.24239125e-06,   2.07004850e-05,   1.65079337e-06,\n",
       "         6.80976373e-05,   9.67635401e-07,   5.57633939e-06,\n",
       "         9.27131083e-08,   1.49828145e-06,   1.26162661e-06,\n",
       "         5.05020398e-06,   2.85872306e-06,   3.28328883e-06,\n",
       "         1.40128680e-06,   3.24933098e-05,   2.21509290e-05,\n",
       "         8.31128091e-06,   1.00697498e-07,   1.88913100e-06,\n",
       "         3.18947173e-07,   1.33404626e-06,   6.34241451e-06,\n",
       "         7.32844319e-06,   4.45427804e-06,   5.65924836e-07,\n",
       "         7.07086065e-06,   9.41631697e-06,   2.29946054e-05,\n",
       "         2.28857971e-06,   2.97865995e-06,   8.26302767e-07,\n",
       "         1.09386301e-05,   1.70760522e-05,   8.27004897e-06,\n",
       "         1.17309446e-06,   8.14046302e-07,   5.17108538e-06,\n",
       "         2.33896048e-06,   7.42590328e-06,   3.11520780e-05,\n",
       "         4.37708804e-05,   3.58998550e-05,   1.84424098e-05,\n",
       "         1.37720349e-06,   7.88654324e-06,   1.42667459e-05,\n",
       "         3.79428002e-07,   7.46802812e-07,   2.48121319e-06,\n",
       "         9.00625946e-06,   1.22150332e-05,   2.23416441e-06,\n",
       "         4.12195459e-06,   9.83817813e-07,   2.21715563e-05,\n",
       "         1.98285816e-05,   6.20174114e-06,   1.06790378e-06,\n",
       "         3.98069869e-06,   1.92942639e-06,   2.66423126e-06,\n",
       "         7.48352818e-07,   1.61355263e-06,   1.29494799e-06,\n",
       "         1.45440252e-04,   3.21718449e-06,   6.03872559e-06,\n",
       "         2.38164102e-05,   1.53489291e-05,   1.84775206e-06,\n",
       "         5.17935268e-06,   9.46728233e-06,   3.03264756e-06,\n",
       "         2.73632736e-06,   1.84065811e-05,   1.11275695e-05,\n",
       "         7.31555974e-06,   4.80752931e-07,   2.92941536e-07,\n",
       "         1.69481973e-06,   8.96238646e-07,   4.33064230e-07,\n",
       "         2.54084480e-05,   6.56573832e-07,   2.28687040e-05,\n",
       "         6.60678552e-07,   3.88575160e-07,   2.08363545e-05,\n",
       "         2.33797365e-07,   2.82000155e-06,   5.28843111e-06,\n",
       "         5.32602689e-06,   5.98784238e-02,   9.31264221e-05,\n",
       "         1.82331623e-05,   3.12604505e-04,   1.32166475e-04,\n",
       "         1.22475365e-04,   1.23827695e-03,   1.09521113e-03,\n",
       "         2.80437147e-04,   9.44378320e-03,   7.46680735e-06,\n",
       "         2.55762425e-05,   5.28770988e-06,   9.95871611e-03,\n",
       "         1.73193810e-04,   1.49525185e-05,   4.48917941e-04,\n",
       "         1.03638624e-04,   2.63066595e-05,   3.04547684e-05,\n",
       "         1.62411095e-06,   2.51996823e-07,   3.24349048e-06,\n",
       "         4.83092265e-07,   6.06949584e-07,   2.58275776e-07,\n",
       "         2.35303451e-05,   1.51602808e-06,   5.12925362e-06,\n",
       "         4.55987310e-06,   6.03273929e-06,   9.78685989e-07,\n",
       "         7.92407227e-05,   1.54177860e-06,   1.03078935e-06,\n",
       "         1.12304910e-07,   4.56742273e-05,   9.36346964e-07,\n",
       "         2.20160268e-06,   3.93244449e-07,   2.21091398e-07,\n",
       "         2.38579872e-07,   1.55454381e-06,   2.52217660e-06,\n",
       "         1.52795128e-05,   5.70783823e-06,   8.21093454e-06,\n",
       "         9.24510175e-07,   1.08203244e-06,   4.39650819e-07,\n",
       "         2.40767747e-07,   7.42263956e-06,   1.92002190e-05,\n",
       "         3.84165396e-05,   6.71482894e-07,   1.68327853e-04,\n",
       "         9.98604355e-06,   1.19727429e-05,   5.60256849e-05,\n",
       "         2.27545333e-05,   1.44173566e-04,   9.11593015e-05,\n",
       "         2.25252484e-06,   1.92641551e-07,   9.66962489e-06,\n",
       "         7.04125569e-07,   7.10164670e-07,   1.24377141e-06,\n",
       "         1.41220099e-07,   7.92368326e-07,   7.06287040e-07,\n",
       "         5.25796577e-06,   2.21870687e-06,   4.99563885e-06,\n",
       "         2.60145839e-07,   5.85164435e-06,   2.63926381e-06,\n",
       "         2.11502652e-06,   1.64985067e-06,   5.10771724e-06,\n",
       "         3.10083777e-07,   4.47574348e-06,   4.65509765e-06,\n",
       "         2.27926603e-06,   4.65499579e-06,   2.94617507e-07,\n",
       "         6.76151012e-06,   3.69238990e-07,   1.85541921e-06,\n",
       "         8.89185249e-05,   8.91362561e-06,   8.39180393e-06,\n",
       "         3.70847156e-05,   5.97416090e-07,   6.42067835e-06,\n",
       "         5.00047190e-06,   1.61048192e-05,   5.82281100e-05,\n",
       "         1.34473999e-06,   6.74909927e-07,   4.76333691e-04,\n",
       "         1.12826854e-03,   4.75638672e-06,   9.73918395e-06,\n",
       "         8.48150594e-05,   2.31739790e-07,   5.71267155e-05,\n",
       "         8.21793856e-06,   5.07198682e-04,   5.27940301e-07,\n",
       "         1.35577238e-07,   8.94360710e-06,   1.65176025e-04,\n",
       "         3.06039692e-06,   2.62178332e-06,   6.14484043e-06,\n",
       "         2.23105708e-05,   3.72747369e-02,   7.74439250e-04,\n",
       "         6.93516267e-05,   7.33838533e-04,   2.90328298e-05,\n",
       "         1.96799610e-05,   4.64382219e-06,   1.65246383e-05,\n",
       "         2.97622537e-05,   3.40074912e-05,   1.12273856e-05,\n",
       "         8.99196166e-05,   1.52884477e-05,   6.94388476e-08,\n",
       "         3.33805132e-04,   5.19253299e-05,   7.32269382e-06,\n",
       "         1.45692160e-04,   2.12432322e-04,   7.29371022e-05,\n",
       "         3.03896340e-05,   1.98466591e-06,   1.44302030e-04,\n",
       "         6.88914806e-05,   3.83117481e-07,   3.63256305e-07,\n",
       "         6.90715660e-06,   4.50592006e-06,   7.01260462e-04,\n",
       "         1.17039584e-04,   4.80204199e-06,   3.53255382e-06,\n",
       "         2.68194912e-04,   1.72069285e-05,   5.77334660e-08,\n",
       "         1.23310053e-06,   1.91226377e-06,   2.80475290e-03,\n",
       "         7.50962681e-06,   4.67592763e-05,   8.36968752e-08,\n",
       "         2.01468583e-06,   9.71207373e-06,   3.31266335e-07,\n",
       "         1.40006171e-06,   1.76574977e-05,   2.35226049e-04,\n",
       "         4.05624064e-07,   1.34849724e-05,   5.49605193e-06,\n",
       "         6.31436298e-04,   6.16942043e-06,   6.60078425e-04,\n",
       "         3.18523780e-05,   5.52110832e-05,   4.06947127e-03,\n",
       "         3.81785685e-06,   4.76537680e-04,   3.37734400e-06,\n",
       "         7.52751657e-04,   2.50204039e-06,   2.51869613e-04,\n",
       "         1.24724454e-06,   1.19626429e-03,   2.07912362e-05,\n",
       "         4.84823750e-06,   2.65646918e-07,   1.00349091e-04,\n",
       "         1.18965260e-03,   1.92529347e-04,   5.92320897e-02,\n",
       "         7.82078314e-06,   2.47993808e-06,   6.51101989e-04,\n",
       "         4.34093417e-05,   7.10193444e-06,   4.16942348e-05,\n",
       "         4.49790178e-07,   1.74477700e-05,   4.14935403e-06,\n",
       "         5.44558497e-05,   3.19400453e-04,   2.34066101e-06,\n",
       "         2.11723727e-05,   4.60848569e-05,   4.79375776e-05,\n",
       "         7.61220072e-05,   2.06967143e-05,   5.51329751e-04,\n",
       "         1.25601736e-03,   2.65075621e-04,   1.65719109e-06,\n",
       "         5.19516070e-05,   3.34818353e-04,   3.37569602e-02,\n",
       "         7.06209335e-04,   3.77623587e-06,   5.47874079e-05,\n",
       "         5.65394544e-07,   4.27608866e-05,   3.44585387e-05,\n",
       "         7.72928433e-06,   2.28694873e-07,   2.17345096e-05,\n",
       "         1.42009912e-05,   3.43501306e-05,   1.21654267e-07,\n",
       "         2.46435093e-07,   1.54573297e-06,   1.18590538e-06,\n",
       "         1.92153512e-03,   1.30785043e-06,   4.42122761e-03,\n",
       "         2.58637767e-04,   7.43415876e-06,   1.40698990e-06,\n",
       "         4.08391770e-06,   1.01997184e-05,   2.38440794e-06,\n",
       "         1.54723366e-05,   4.47071585e-07,   1.24179751e-05,\n",
       "         3.42518797e-06,   2.53061909e-04,   2.15756078e-03,\n",
       "         1.56831797e-04,   4.39320775e-06,   4.13544221e-05,\n",
       "         1.14715379e-03,   5.49816718e-07,   2.98798199e-07,\n",
       "         2.13673065e-05,   1.54843008e-06,   9.32176681e-06,\n",
       "         2.92754430e-05,   4.72252868e-05,   7.02798889e-06,\n",
       "         7.39890020e-05,   1.51149579e-05,   5.42651214e-05,\n",
       "         4.42029350e-03,   5.84502959e-06,   2.25661770e-05,\n",
       "         5.03962428e-06,   1.04743694e-05,   1.23731617e-03,\n",
       "         1.16359182e-07,   2.72667330e-06,   4.59356888e-05,\n",
       "         1.12451584e-04,   1.66988605e-06,   6.64723029e-06,\n",
       "         2.06812256e-05,   2.83938698e-05,   2.33294013e-05,\n",
       "         7.92184437e-05,   1.49346051e-05,   1.41093169e-05,\n",
       "         4.89923877e-06,   4.59894727e-05,   4.80103665e-07,\n",
       "         1.24616563e-05,   1.27199348e-06,   2.17498127e-05,\n",
       "         4.70879422e-06,   1.29085502e-05,   3.90367146e-04,\n",
       "         5.53834470e-05,   3.87026876e-06,   2.79629859e-03,\n",
       "         6.70405313e-07,   1.45954298e-04,   1.27646363e-05,\n",
       "         4.42402552e-06,   4.62503385e-06,   7.66183948e-04,\n",
       "         1.06256584e-05,   1.43818224e-05,   1.78796588e-04,\n",
       "         1.90207757e-05,   2.28293065e-05,   8.24192375e-06,\n",
       "         3.60051892e-03,   3.48852069e-07,   1.99376318e-05,\n",
       "         9.64639185e-07,   7.50499894e-04,   2.37274289e-04,\n",
       "         6.17751037e-04,   5.78164589e-04,   6.73462955e-06,\n",
       "         6.67120185e-05,   1.27922995e-05,   2.70852121e-03,\n",
       "         1.68227393e-06,   1.03108003e-03,   5.14431008e-07,\n",
       "         2.93150174e-06,   1.69091462e-03,   6.15444105e-06,\n",
       "         8.53801030e-05,   2.89386517e-04,   1.70668951e-04,\n",
       "         1.14151648e-04,   1.00560661e-03,   6.09130878e-03,\n",
       "         3.66145827e-07,   2.89898635e-05,   1.02098351e-02,\n",
       "         3.71709357e-05,   2.33168680e-06,   9.57436860e-03,\n",
       "         4.28614076e-05,   9.02003831e-06,   4.79951268e-05,\n",
       "         3.45078181e-04,   2.75453573e-07,   1.61688531e-05,\n",
       "         2.16955777e-05,   4.66071942e-05,   4.87673287e-06,\n",
       "         1.93168535e-06,   7.60117018e-06,   1.32430869e-03,\n",
       "         3.55978496e-04,   3.17600752e-05,   1.60136782e-02,\n",
       "         3.82730036e-07,   1.65423280e-05,   1.40079437e-05,\n",
       "         4.73004684e-06,   3.25129781e-06,   9.07826936e-04,\n",
       "         2.13377689e-06,   2.24261566e-06,   1.10346213e-04,\n",
       "         1.63931036e-05,   3.88977287e-06,   1.90165683e-05,\n",
       "         8.31461512e-05,   3.92644324e-06,   8.37179925e-07,\n",
       "         1.78235109e-06,   7.58012959e-07,   2.67865780e-05,\n",
       "         2.66655064e-07,   1.13325495e-05,   4.57643291e-05,\n",
       "         1.87574333e-04,   5.45237162e-06,   7.85014151e-08,\n",
       "         3.62683750e-07,   1.20050026e-04,   4.03605782e-06,\n",
       "         1.20648974e-05,   1.99334230e-03,   3.78625374e-03,\n",
       "         7.58381759e-07,   1.39013464e-05,   2.73147020e-02,\n",
       "         3.07687583e-06,   9.35185089e-05,   3.91840258e-05,\n",
       "         2.84426409e-04,   8.58300893e-07,   2.22303206e-04,\n",
       "         3.05219810e-03,   4.97511683e-05,   2.69752672e-06,\n",
       "         3.12709744e-06,   3.33980893e-06,   1.10417318e-07,\n",
       "         2.72506782e-07,   7.14804446e-06,   7.68012796e-06,\n",
       "         1.19772034e-04,   1.32820105e-05,   1.92216923e-03,\n",
       "         4.47280798e-03,   1.10857775e-06,   3.19487242e-07,\n",
       "         3.02597837e-05,   3.04694986e-05,   1.91602245e-04,\n",
       "         1.15616531e-05,   1.54718800e-05,   5.08487465e-05,\n",
       "         3.35694676e-06,   1.02148732e-07,   2.76345818e-05,\n",
       "         4.69891347e-07,   5.74758233e-05,   5.20109478e-03,\n",
       "         1.54785143e-04,   1.03096099e-05,   6.94669370e-06,\n",
       "         1.11001078e-02,   1.02970273e-06,   1.02924378e-05,\n",
       "         1.05771149e-04,   7.54560347e-07,   2.93626945e-04,\n",
       "         8.10022093e-03,   5.89534295e-07,   5.34647726e-04,\n",
       "         3.16458636e-06,   1.49568609e-06,   1.50889191e-05,\n",
       "         5.63015819e-05,   5.23490553e-06,   3.54188114e-06,\n",
       "         3.03737835e-07,   3.06613001e-05,   3.22422013e-04,\n",
       "         3.74120937e-05,   2.60867586e-04,   2.77344202e-06,\n",
       "         1.22214124e-06,   1.32753015e-01,   3.43610591e-04,\n",
       "         1.32472405e-06,   2.03816326e-05,   2.12002788e-02,\n",
       "         1.59623996e-05,   5.30072612e-06,   3.94290828e-06,\n",
       "         3.77327488e-05,   5.00916176e-05,   2.67339288e-04,\n",
       "         1.08063468e-04,   2.76981541e-06,   1.18589182e-04,\n",
       "         1.24900689e-05,   1.28804275e-03,   4.03892445e-05,\n",
       "         1.28955508e-04,   8.29352120e-06,   1.68181668e-06,\n",
       "         4.31156468e-06,   1.37390430e-06,   6.67832501e-05,\n",
       "         2.09512073e-05,   1.81704127e-05,   5.15632681e-04,\n",
       "         9.08061156e-06,   1.17707681e-02,   9.38282290e-04,\n",
       "         2.56394333e-06,   1.89918740e-06,   1.00778555e-02,\n",
       "         5.71210239e-06,   2.86483380e-04,   2.13325293e-05,\n",
       "         1.14461676e-04,   7.74466991e-02,   8.14506086e-04,\n",
       "         8.47130432e-05,   1.58276782e-06,   1.17347273e-03,\n",
       "         2.29781417e-05,   3.67011817e-05,   7.00517103e-06,\n",
       "         1.25734334e-06,   5.11472642e-08,   7.30668398e-06,\n",
       "         4.05213721e-02,   1.34475127e-01,   6.30961358e-06,\n",
       "         1.93121581e-04,   4.94680535e-07,   2.13792300e-05,\n",
       "         4.48441688e-06,   1.24872986e-06,   2.31253234e-05,\n",
       "         4.70445557e-05,   3.72829641e-06,   3.39088612e-04,\n",
       "         3.48495174e-04,   9.65119943e-06,   3.20113395e-05,\n",
       "         3.31810634e-06,   3.02185890e-06,   3.61065503e-07,\n",
       "         2.65096343e-04,   9.78877360e-05,   3.98559314e-05,\n",
       "         1.69166851e-05,   9.35546414e-05,   4.31908347e-06,\n",
       "         6.15730613e-08,   4.64585946e-06,   3.61492057e-05,\n",
       "         1.37738944e-05,   7.36216170e-05,   6.31169826e-07,\n",
       "         2.16484841e-04,   1.89697908e-04,   6.27360077e-06,\n",
       "         1.51658851e-05,   6.08692702e-04,   1.70881243e-03,\n",
       "         3.73189454e-04,   1.34259494e-06,   1.39488861e-07,\n",
       "         2.64442360e-06,   6.72832597e-04,   2.92525715e-06,\n",
       "         2.37082901e-07,   1.88575976e-03,   3.47612222e-04,\n",
       "         1.38068994e-04,   3.93413848e-06,   2.44885796e-05,\n",
       "         9.16445151e-06,   3.84715086e-08,   2.05477772e-05,\n",
       "         2.90901312e-06,   2.09938389e-06,   2.80220353e-04,\n",
       "         3.43872351e-04,   3.16223623e-06,   1.16550268e-06,\n",
       "         9.45471311e-06,   4.75448433e-05,   5.47392028e-06,\n",
       "         1.57812337e-05,   1.43640256e-02,   6.66848943e-02,\n",
       "         5.33755156e-05,   3.01826731e-06,   3.43025677e-05,\n",
       "         1.22866695e-04,   1.50957931e-04,   6.45554019e-06,\n",
       "         2.55256949e-04,   7.59146204e-08,   5.50415891e-04,\n",
       "         4.43696335e-04,   1.04566243e-05,   6.74017087e-07,\n",
       "         1.34803631e-04,   2.40055518e-03,   6.67039058e-06,\n",
       "         5.60607732e-05,   3.73963470e-04,   1.99115516e-06,\n",
       "         8.56627812e-05,   1.19471645e-06,   8.59473512e-05,\n",
       "         1.71960037e-05,   2.41358121e-05,   6.94907885e-06,\n",
       "         2.35810585e-04,   1.87438684e-06,   1.42610807e-04,\n",
       "         2.20851075e-06,   2.22341146e-06,   5.30847901e-05,\n",
       "         9.86288578e-05,   1.47204264e-06,   2.62578324e-05,\n",
       "         7.96765598e-05,   1.27351261e-04,   3.95464122e-05,\n",
       "         5.17439563e-04,   8.40456232e-06,   2.05332708e-06,\n",
       "         3.59300495e-04,   3.93335199e-07,   2.51141046e-07,\n",
       "         3.87037198e-06,   7.40318839e-03,   1.20755903e-05,\n",
       "         7.95679352e-06,   1.40002323e-03,   9.56645454e-06,\n",
       "         8.59111242e-06,   2.54340230e-05,   6.56935619e-04,\n",
       "         1.75131277e-06,   1.07745596e-04,   5.28918026e-05,\n",
       "         1.18194907e-06,   5.63193817e-06,   7.50193605e-03,\n",
       "         5.33279172e-06,   1.01076494e-05,   2.67983050e-05,\n",
       "         3.27597945e-06,   3.77088494e-04,   1.95318673e-04,\n",
       "         5.94277935e-06,   4.86797653e-05,   1.09024704e-05,\n",
       "         4.02262174e-07,   1.20610430e-05,   1.46550335e-07,\n",
       "         3.22749941e-07,   2.66608058e-05,   6.34737626e-06,\n",
       "         2.51611891e-05,   1.25543893e-05,   2.02404350e-04,\n",
       "         3.85330750e-05,   7.82566167e-06,   3.44898654e-05,\n",
       "         2.92315167e-06,   1.40183212e-04,   1.35692105e-07,\n",
       "         8.92113530e-06,   6.12177155e-06,   3.54836739e-05,\n",
       "         7.07690845e-07,   5.60832850e-05,   2.59565626e-04,\n",
       "         3.19196874e-06,   3.96020041e-05,   3.01443288e-06,\n",
       "         7.85344014e-07,   1.18340686e-05,   4.94384585e-06,\n",
       "         8.31790203e-06,   3.23141217e-06,   1.60444488e-05,\n",
       "         4.82756332e-05,   4.38100978e-05,   1.42628198e-06,\n",
       "         1.20699964e-03,   2.26431916e-06,   7.38527979e-06,\n",
       "         7.34719448e-04,   5.72177159e-05,   2.46104522e-04,\n",
       "         5.21127768e-05,   7.64470133e-06,   1.77196271e-05,\n",
       "         3.54092219e-03,   6.52645838e-07,   9.43090697e-07,\n",
       "         4.46920516e-03,   1.50336336e-05,   4.91149558e-06,\n",
       "         3.04737274e-04,   1.63945879e-05,   2.35177458e-06,\n",
       "         3.54650001e-05,   7.99064037e-06,   9.20413243e-07,\n",
       "         3.29060853e-03,   3.56646051e-05,   3.11971031e-04,\n",
       "         9.39785423e-06,   4.60840874e-06,   3.54998047e-04,\n",
       "         7.29531348e-06,   1.94308336e-06,   3.99552755e-06,\n",
       "         6.05796231e-05,   2.53863209e-06,   1.58965759e-05,\n",
       "         3.62896899e-05,   3.74456079e-07,   8.90748997e-05,\n",
       "         1.99060087e-04,   2.81703683e-06,   3.64878622e-04,\n",
       "         4.31575463e-05,   1.82626954e-05,   7.33281286e-06,\n",
       "         3.21630578e-05,   7.18228257e-05,   7.18698662e-04,\n",
       "         2.82423542e-04,   4.95643189e-06,   2.13065050e-05,\n",
       "         6.04565457e-07,   8.27883105e-06,   2.51908750e-06,\n",
       "         1.50679810e-07,   4.81372035e-06,   1.74216905e-06,\n",
       "         1.18035292e-04], dtype=float32)"
      ]
     },
     "execution_count": 24,
     "metadata": {},
     "output_type": "execute_result"
    }
   ],
   "source": [
    "output_prob"
   ]
  },
  {
   "cell_type": "code",
   "execution_count": null,
   "metadata": {
    "collapsed": true,
    "deletable": true,
    "editable": true
   },
   "outputs": [],
   "source": []
  }
 ],
 "metadata": {
  "description": "Instant recognition with a pre-trained model and a tour of the net interface for visualizing features and parameters layer-by-layer.",
  "example_name": "Image Classification and Filter Visualization",
  "include_in_docs": true,
  "kernelspec": {
   "display_name": "Python 3",
   "language": "python",
   "name": "python3"
  },
  "language_info": {
   "codemirror_mode": {
    "name": "ipython",
    "version": 3
   },
   "file_extension": ".py",
   "mimetype": "text/x-python",
   "name": "python",
   "nbconvert_exporter": "python",
   "pygments_lexer": "ipython3",
   "version": "3.4.2"
  },
  "priority": 1
 },
 "nbformat": 4,
 "nbformat_minor": 0
}
