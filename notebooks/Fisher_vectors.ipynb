{
 "cells": [
  {
   "cell_type": "code",
   "execution_count": 1,
   "metadata": {
    "collapsed": true,
    "deletable": true,
    "editable": true
   },
   "outputs": [],
   "source": [
    "import os.path\n",
    "import numpy as np\n",
    "import cv2\n",
    "import sys\n",
    "import pickle\n",
    "import gzip\n",
    "\n",
    "mainPath='/home/frubio/AVA/'"
   ]
  },
  {
   "cell_type": "code",
   "execution_count": null,
   "metadata": {
    "collapsed": true
   },
   "outputs": [],
   "source": [
    "def extractSIFT(file, step_size):\n",
    "    img = cv2.imread(mainPath+'AVADataset/'+file+'.jpg')\n",
    "    gray= cv2.cvtColor(img,cv2.COLOR_BGR2GRAY)\n",
    "    \n",
    "    kp = [cv2.KeyPoint(x, y, step_size) for y in range(0, gray.shape[0], step_size) \n",
    "                                    for x in range(0, gray.shape[1], step_size)]\n",
    "    \n",
    "    sift = cv2.xfeatures2d.SIFT_create()\n",
    "    dense_feat = sift.compute(gray, kp)\n",
    "    pickle.dump(dense_feat[1], gzip.open(\"/home/frubio/aesthetic_quality/features/dSIFT/AVA/\"+file+\".pklz\", \"wb\" ),2)"
   ]
  },
  {
   "cell_type": "code",
   "execution_count": 2,
   "metadata": {
    "collapsed": true
   },
   "outputs": [],
   "source": [
    "step_size = 16\n",
    "\n",
    "f = open(mainPath+'AVA_files/AVA.txt', 'r')\n",
    "\n",
    "for line in f:\n",
    "    strSplit=line.split()\n",
    "    fname=mainPath+'AVADataset/'+strSplit[1]+'.jpg'\n",
    "    if os.path.isfile(fname):\n",
    "        extractSIFT(strSplit[1], step_size)\n",
    "        \n",
    "f.close()"
   ]
  }
 ],
 "metadata": {
  "kernelspec": {
   "display_name": "Python 3",
   "language": "python",
   "name": "python3"
  },
  "language_info": {
   "codemirror_mode": {
    "name": "ipython",
    "version": 3
   },
   "file_extension": ".py",
   "mimetype": "text/x-python",
   "name": "python",
   "nbconvert_exporter": "python",
   "pygments_lexer": "ipython3",
   "version": "3.4.3"
  }
 },
 "nbformat": 4,
 "nbformat_minor": 2
}
