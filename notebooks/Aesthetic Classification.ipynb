{
 "cells": [
  {
   "cell_type": "markdown",
   "metadata": {
    "deletable": true,
    "editable": true
   },
   "source": [
    "# Aesthetic Classification\n",
    "\n",
    "In this notebook we work with different functions to make a model and obtain results from image descriptors.\n",
    "This will be an example in order to create scripts that generate automaticatly the results for our paper.\n",
    "\n",
    "## A bit of set up\n",
    "\n",
    "We need numpy and pandas for data. Pickle and gzip for read the extracted features. Our folder with the code of our functions. Different models from scikit."
   ]
  },
  {
   "cell_type": "code",
   "execution_count": 1,
   "metadata": {
    "collapsed": false,
    "deletable": true,
    "editable": true
   },
   "outputs": [],
   "source": [
    "# set up Python environment: numpy for numerical routines\n",
    "import numpy as np\n",
    "import pandas as pd\n",
    "\n",
    "# for store the results\n",
    "from six.moves import cPickle as pickle\n",
    "import gzip\n",
    "\n",
    "# our code (utilsData needs a view)\n",
    "import sys\n",
    "sys.path.append('../pycode/')\n",
    "import utilsData\n",
    "from preprocess import utilities\n",
    "\n",
    "# for auto-reloading external modules\n",
    "# see http://stackoverflow.com/questions/1907993/autoreload-of-modules-in-ipython\n",
    "%load_ext autoreload\n",
    "%autoreload 2\n"
   ]
  },
  {
   "cell_type": "code",
   "execution_count": 2,
   "metadata": {
    "collapsed": false,
    "deletable": true,
    "editable": true,
    "scrolled": true
   },
   "outputs": [
    {
     "ename": "ImportError",
     "evalue": "No module named 'sklearn_extensions'",
     "output_type": "error",
     "traceback": [
      "\u001b[0;31m---------------------------------------------------------------------------\u001b[0m",
      "\u001b[0;31mImportError\u001b[0m                               Traceback (most recent call last)",
      "\u001b[0;32m<ipython-input-2-8e5f3329009a>\u001b[0m in \u001b[0;36m<module>\u001b[0;34m()\u001b[0m\n\u001b[1;32m      1\u001b[0m \u001b[0;32mfrom\u001b[0m \u001b[0msklearn\u001b[0m\u001b[0;34m.\u001b[0m\u001b[0mmetrics\u001b[0m \u001b[0;32mimport\u001b[0m \u001b[0mroc_auc_score\u001b[0m\u001b[0;34m,\u001b[0m \u001b[0maccuracy_score\u001b[0m\u001b[0;34m\u001b[0m\u001b[0m\n\u001b[0;32m----> 2\u001b[0;31m \u001b[0;32mimport\u001b[0m \u001b[0mfull_models\u001b[0m\u001b[0;34m\u001b[0m\u001b[0m\n\u001b[0m",
      "\u001b[0;32m/home/frubio/aesthetic_quality/pycode/full_models.py\u001b[0m in \u001b[0;36m<module>\u001b[0;34m()\u001b[0m\n\u001b[1;32m      8\u001b[0m \u001b[0;32mfrom\u001b[0m \u001b[0msklearn\u001b[0m\u001b[0;34m.\u001b[0m\u001b[0mnaive_bayes\u001b[0m \u001b[0;32mimport\u001b[0m \u001b[0mGaussianNB\u001b[0m\u001b[0;34m\u001b[0m\u001b[0m\n\u001b[1;32m      9\u001b[0m \u001b[0;32mfrom\u001b[0m \u001b[0msklearn\u001b[0m\u001b[0;34m.\u001b[0m\u001b[0msvm\u001b[0m \u001b[0;32mimport\u001b[0m \u001b[0mLinearSVC\u001b[0m\u001b[0;34m\u001b[0m\u001b[0m\n\u001b[0;32m---> 10\u001b[0;31m \u001b[0;32mfrom\u001b[0m \u001b[0msklearn_extensions\u001b[0m\u001b[0;34m.\u001b[0m\u001b[0mextreme_learning_machines\u001b[0m\u001b[0;34m.\u001b[0m\u001b[0mrandom_layer\u001b[0m \u001b[0;32mimport\u001b[0m \u001b[0mMLPRandomLayer\u001b[0m\u001b[0;34m\u001b[0m\u001b[0m\n\u001b[0m\u001b[1;32m     11\u001b[0m \u001b[0;32mfrom\u001b[0m \u001b[0msklearn_extensions\u001b[0m\u001b[0;34m.\u001b[0m\u001b[0mextreme_learning_machines\u001b[0m\u001b[0;34m.\u001b[0m\u001b[0melm\u001b[0m \u001b[0;32mimport\u001b[0m \u001b[0mGenELMClassifier\u001b[0m\u001b[0;34m\u001b[0m\u001b[0m\n\u001b[1;32m     12\u001b[0m \u001b[0;32mfrom\u001b[0m \u001b[0msklearn\u001b[0m\u001b[0;34m.\u001b[0m\u001b[0mensemble\u001b[0m \u001b[0;32mimport\u001b[0m \u001b[0mGradientBoostingClassifier\u001b[0m\u001b[0;34m\u001b[0m\u001b[0m\n",
      "\u001b[0;31mImportError\u001b[0m: No module named 'sklearn_extensions'"
     ]
    }
   ],
   "source": [
    "from sklearn.metrics import roc_auc_score, accuracy_score\n",
    "import full_models"
   ]
  },
  {
   "cell_type": "code",
   "execution_count": null,
   "metadata": {
    "collapsed": true,
    "deletable": true,
    "editable": true
   },
   "outputs": [],
   "source": [
    "%load_ext memory_profiler"
   ]
  },
  {
   "cell_type": "markdown",
   "metadata": {
    "deletable": true,
    "editable": true
   },
   "source": [
    "## AVA dataset\n",
    "We start with AVA data. First, a info package must be load. It contains information about votes, style features, labels and IDs. Then with the information of the arff file and readARFF function, we extract the features with their IDs. Finally, the information is combined."
   ]
  },
  {
   "cell_type": "code",
   "execution_count": 6,
   "metadata": {
    "collapsed": false,
    "deletable": true,
    "editable": true
   },
   "outputs": [],
   "source": [
    "#features_file = '../features/AVA/GHIST.arff'\n",
    "features_file = '../features/CaffeNet_fc6.pklz'\n",
    "output_file = '../prueba.pklz'\n",
    "selected_model = 'NBG'\n",
    "decaf_discrete = 'False'"
   ]
  },
  {
   "cell_type": "code",
   "execution_count": 7,
   "metadata": {
    "collapsed": false,
    "deletable": true,
    "editable": true
   },
   "outputs": [],
   "source": [
    "if features_file[-4:] == 'pklz':\n",
    "    features = pickle.load(open(features_file,'rb',pickle.HIGHEST_PROTOCOL))\n",
    "else:\n",
    "    features = utilsData.readARFF(features_file)\n",
    "    \n",
    "features['id'] = features['id'].astype(int)\n",
    "#for test in notebooks\n",
    "#features = features.iloc[:,-101:]\n",
    "\n",
    "# we take the name of the features and delete de ID\n",
    "features_names = np.array(features.columns)\n",
    "index = np.argwhere(features_names=='id')\n",
    "features_names = np.delete(features_names, index)\n",
    "\n",
    "# this line is for normalize decaf features\n",
    "if (decaf_discrete == 'True'):\n",
    "    features[features_names],_ = utilities.reference_forward_implementation(np.array(features[features_names]),5,2,1.5,0.75)\n",
    "\n",
    "data = pickle.load(gzip.open('../packages/AVA_info.pklz','rb',2))"
   ]
  },
  {
   "cell_type": "code",
   "execution_count": 10,
   "metadata": {
    "collapsed": false,
    "deletable": true,
    "editable": true
   },
   "outputs": [],
   "source": [
    "data=data.merge(features, on='id', copy=False)"
   ]
  },
  {
   "cell_type": "code",
   "execution_count": null,
   "metadata": {
    "collapsed": true,
    "deletable": true,
    "editable": true
   },
   "outputs": [],
   "source": [
    "num_images = data.shape[0]\n",
    "\n",
    "# to free space\n",
    "del features"
   ]
  },
  {
   "cell_type": "code",
   "execution_count": null,
   "metadata": {
    "collapsed": false,
    "deletable": true,
    "editable": true
   },
   "outputs": [],
   "source": [
    "data_aux = data[np.append(features_names,['Class'])]\n",
    "data_aux['Class'] = pd.Categorical(data_aux['Class'],range(0,len(data_aux['Class'].unique())))\n",
    "del data"
   ]
  },
  {
   "cell_type": "code",
   "execution_count": null,
   "metadata": {
    "collapsed": false,
    "deletable": true,
    "editable": true
   },
   "outputs": [],
   "source": [
    "np.random.seed(1000)\n",
    "num_folds = 5\n",
    "folds = np.random.choice(range(0,num_images),replace=False,size=(num_folds,int(num_images/num_folds)))"
   ]
  },
  {
   "cell_type": "code",
   "execution_count": null,
   "metadata": {
    "collapsed": false,
    "deletable": true,
    "editable": true
   },
   "outputs": [],
   "source": [
    "results = {}\n",
    "results['balanced']=0\n",
    "results['AUC']=0\n",
    "results['accuracy']=0\n",
    "\n",
    "for i in range(0, num_folds):\n",
    "    \n",
    "    train_indices = np.delete(folds,i,axis=0).reshape(-1)\n",
    "    train_indices = train_indices[utilities.balance_class(data_aux['Class'].cat.codes[train_indices])]\n",
    "    \n",
    "    test_indices = folds[i]\n",
    "    \n",
    "    if selected_model == 'NB':\n",
    "        predictions = full_models.fullNB(data_aux, train_indices, test_indices)\n",
    "        \n",
    "    elif selected_model == 'AODE':\n",
    "        predictions = full_models.fullAODE(data_aux, train_indices, test_indices)\n",
    "    \n",
    "    elif selected_model == 'NBG':\n",
    "        predictions = full_models.fullNBG(data_aux, train_indices, test_indices, features_names, 'Class')\n",
    "    \n",
    "    elif selected_model == 'SVM':\n",
    "        predictions = full_models.fullSVM(data_aux, train_indices, test_indices, features_names, 'Class')\n",
    "        \n",
    "    elif selected_model == 'ELM':\n",
    "        predictions = full_models.fullELM(data_aux, train_indices, test_indices, features_names, 'Class')\n",
    "        \n",
    "    elif selected_model == 'GBoost':\n",
    "        predictions = full_models.fullGBoost(data_aux, train_indices, test_indices, features_names, 'Class')\n",
    "    \n",
    "    results['balanced'] += utilsData.balanced_accuracy(data_aux['Class'].cat.codes[test_indices], predictions)\n",
    "    results['AUC'] += roc_auc_score(data_aux['Class'].cat.codes[test_indices], predictions)\n",
    "    results['accuracy'] += accuracy_score(data_aux['Class'].cat.codes[test_indices], (predictions >= 0.5).astype(int))\n",
    "    \n",
    "results['balanced'] /= num_folds\n",
    "results['AUC'] /= num_folds\n",
    "results['accuracy'] /= num_folds"
   ]
  },
  {
   "cell_type": "code",
   "execution_count": null,
   "metadata": {
    "collapsed": true,
    "deletable": true,
    "editable": true
   },
   "outputs": [],
   "source": [
    "pickle.dump(results, gzip.open( output_file, \"wb\" ), 2)"
   ]
  }
 ],
 "metadata": {
  "kernelspec": {
   "display_name": "Python 3",
   "language": "python",
   "name": "python3"
  },
  "language_info": {
   "codemirror_mode": {
    "name": "ipython",
    "version": 3
   },
   "file_extension": ".py",
   "mimetype": "text/x-python",
   "name": "python",
   "nbconvert_exporter": "python",
   "pygments_lexer": "ipython3",
   "version": "3.4.2"
  }
 },
 "nbformat": 4,
 "nbformat_minor": 2
}
